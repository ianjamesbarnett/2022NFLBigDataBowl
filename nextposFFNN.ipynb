{
  "cells": [
    {
      "cell_type": "markdown",
      "metadata": {
        "id": "view-in-github",
        "colab_type": "text"
      },
      "source": [
        "<a href=\"https://colab.research.google.com/github/ianjamesbarnett/2022NFLBigDataBowl/blob/main/nextposFFNN.ipynb\" target=\"_parent\"><img src=\"https://colab.research.google.com/assets/colab-badge.svg\" alt=\"Open In Colab\"/></a>"
      ]
    },
    {
      "cell_type": "code",
      "execution_count": null,
      "metadata": {
        "id": "T409B_e22voV"
      },
      "outputs": [],
      "source": [
        "import math\n",
        "import numpy as np\n",
        "import matplotlib.pyplot as plt\n",
        "import os\n",
        "import torch\n",
        "import io\n",
        "import torchvision as tv \n",
        "from PIL import Image\n",
        "import torch.nn as nn\n",
        "import torch.nn.functional as F\n",
        "import torch.optim as optim\n",
        "import pickle\n",
        "import gc\n",
        "\n"
      ]
    },
    {
      "cell_type": "markdown",
      "metadata": {
        "id": "CftgQ5hPvb2b"
      },
      "source": [
        "\n",
        "\n",
        "1.   frame picture\n",
        "2.   (x0,y0,a0,s0,o0) and (x1,y1,a1,s1,o1)\n",
        "3.   \n",
        "\n",
        "For a given frame you need\n",
        "\n",
        "\n",
        "\n",
        "1) \n",
        "For a given player, get their current (x0,y0) and get their next (x1,y1,a1,s1,o1)\n",
        "2) extract the subimage around (x0,y0).\n",
        "3) Run the CNN with the subimage as input and (x1,y1,a1,s1,o1) as output.\n",
        "4) Use the CNN to construct next images"
      ]
    },
    {
      "cell_type": "code",
      "execution_count": null,
      "metadata": {
        "colab": {
          "base_uri": "https://localhost:8080/"
        },
        "id": "I-mn-JWZ3Swc",
        "outputId": "77f06ff4-a633-4340-ac47-bbd681941a76"
      },
      "outputs": [
        {
          "output_type": "stream",
          "name": "stdout",
          "text": [
            "Mounted at /content/drive\n"
          ]
        }
      ],
      "source": [
        "from google.colab import drive\n",
        "drive.mount('/content/drive')\n"
      ]
    },
    {
      "cell_type": "code",
      "execution_count": null,
      "metadata": {
        "id": "CLXV1lLb21QN"
      },
      "outputs": [],
      "source": [
        "data_dir = \"/content/drive/MyDrive/NFLBigDataBowl2022\"\n",
        "os.chdir(data_dir)\n",
        "\n",
        "#YEAR=\"2018\";maxplays=756\n",
        "YEAR=\"2019\";maxplays=749\n",
        "#YEAR=\"2020\";maxplays=855\n",
        "\n",
        "\n",
        "filein=open(data_dir+\"/tracking\"+YEAR+\".csv\",'r')\n",
        "line=filein.readline()\n",
        "\n",
        "filein2=open(data_dir+\"/games.csv\",'r')\n",
        "filein2.readline()\n",
        "game_d={}\n",
        "for line in filein2:\n",
        "    line_v=[x.strip('\\\"') for x in line.strip(\"\\n\").split(\",\")]\n",
        "    game_d[line_v[0]]=line_v[1:]\n",
        "\n",
        "filein3=open(data_dir+\"/plays.csv\",'r')\n",
        "filein3.readline()\n",
        "play_d={}\n",
        "for line in filein3:\n",
        "    line_v=[x.strip('\\\"') for x in line.strip(\"\\n\").split(\",\")]\n",
        "    play_d[line_v[0]+\"-\"+line_v[1]]=line_v[2:]\n"
      ]
    },
    {
      "cell_type": "code",
      "execution_count": null,
      "metadata": {
        "id": "wmedSGsm4SUw"
      },
      "outputs": [],
      "source": [
        "# gets the frame of all received punts\n",
        "#pret={}\n",
        "#for line in filein:\n",
        "#    line_v=line.split(\",\")\n",
        "#    if line_v[8].strip(\"\\\"\")==\"punt_received\":\n",
        "#        gpID = line_v[15]+\"-\"+line_v[16]\n",
        "#        if gpID not in pret:\n",
        "#            pret[gpID]={}\n",
        "#        pret[gpID][line_v[9]]=line_v[1:8]+line_v[11:14]\n"
      ]
    },
    {
      "cell_type": "code",
      "execution_count": null,
      "metadata": {
        "id": "550VVZjH4UM4"
      },
      "outputs": [],
      "source": [
        "def PlotFieldPosition(temp):\n",
        "    plotdata = {'x':[],'y':[],'s':[],'a':[],'o':[],'dir':[],'jerseyNumber':[],'position':[],'team':[],'color':[]}\n",
        "    for key in temp:\n",
        "        plotdata['x'].append(float(temp[key][0]))\n",
        "        plotdata['y'].append(float(temp[key][1]))\n",
        "        plotdata['s'].append(float(temp[key][2]))\n",
        "        plotdata['a'].append(float(temp[key][3]))\n",
        "        plotdata['o'].append(temp[key][5])\n",
        "        plotdata['dir'].append(temp[key][6])\n",
        "        plotdata['jerseyNumber'].append(temp[key][7])\n",
        "        plotdata['position'].append(temp[key][8])\n",
        "        plotdata['team'].append(temp[key][9])\n",
        "        if temp[key][9].strip(\"\\\"\")==\"football\":\n",
        "            plotdata['color'].append(0)    \n",
        "        elif temp[key][9].strip(\"\\\"\")==\"away\":\n",
        "            plotdata['color'].append(1)    \n",
        "        else:\n",
        "            plotdata['color'].append(2)    \n",
        "    plt.scatter('y','x',c='color',data=plotdata)\n",
        "    plt.show()\n",
        "\n",
        "#PlotFieldPosition(pret[key1])  \n",
        "#PlotFieldPosition(pret[key2])  \n",
        "\n",
        "\n",
        "\n",
        "\n",
        "\n",
        "# get IDs of all plays to turn into videos (returned punts and kicks)\n",
        "catchframe = {}\n",
        "pID_s=set()\n",
        "filein.seek(0)\n",
        "for line in filein:\n",
        "    line_v=line.split(\",\")\n",
        "    if line_v[8].strip(\"\\\"\")==\"punt_received\" or line_v[8].strip(\"\\\"\")==\"kick_received\":\n",
        "        gpID = line_v[15]+\"-\"+line_v[16]\n",
        "        if play_d[gpID][6]==\"Return\":\n",
        "            pID_s.add(gpID)\n",
        "            catchframe[gpID]=line_v[14]\n",
        "\n",
        "\n",
        "        \n",
        "# create video files\n",
        "ret_vids = {} # 3 layers of dictionaries: playID, frameID, playerID\n",
        "filein.seek(0)\n",
        "for line in filein:\n",
        "    line_v=line.split(\",\")\n",
        "    gpID = line_v[15]+\"-\"+line_v[16]\n",
        "    if gpID not in pID_s:\n",
        "        continue\n",
        "    if gpID not in ret_vids:\n",
        "        ret_vids[gpID]={}\n",
        "    if line_v[14] not in ret_vids[gpID]:\n",
        "        ret_vids[gpID][line_v[14]]={}\n",
        "    ret_vids[gpID][line_v[14]][line_v[9]]=line_v[1:8]+line_v[11:14]+[line_v[17].strip(\"\\n\")]\n",
        "\n",
        "# Create multi-channel images\n",
        "#x,y,s,a,dis,o,dir,jersey,pos,team,playdirectino\n",
        "pIDs=list(ret_vids.keys())\n"
      ]
    },
    {
      "cell_type": "code",
      "execution_count": null,
      "metadata": {
        "id": "iajuejgbkfiu"
      },
      "outputs": [],
      "source": [
        "#radius=200\n",
        "#plID=pIDs[0]\n",
        "#player='NA'\n",
        "#frID=list(ret_vids[plID].keys())[-1]\n",
        "#frID='1'\n",
        "\n",
        "def GetClosePlayers(player,plID,frID,radius=250):\n",
        "  curd=ret_vids[plID][frID]\n",
        "  ofIDs=list(curd.keys())\n",
        "  cx0=float(curd[player][0])\n",
        "  cy0=float(curd[player][1])\n",
        "  distv=[]\n",
        "  xrelv=[]\n",
        "  yrelv=[]\n",
        "  idv=[]\n",
        "  for id in ofIDs:\n",
        "    if id=='NA':\n",
        "      continue\n",
        "    xrel=float(curd[id][0])-cx0\n",
        "    yrel=float(curd[id][1])-cy0\n",
        "    curdist=np.sqrt(xrel**2+yrel**2)\n",
        "    if curdist>radius:\n",
        "      continue\n",
        "    distv.append(curdist)\n",
        "    idv.append(id)\n",
        "    xrelv.append(xrel)\n",
        "    yrelv.append(yrel)\n",
        "  distv=np.array(distv)\n",
        "  yrelv=np.array(yrelv)\n",
        "  xrelv=np.array(xrelv)\n",
        "  idv=np.array(idv)\n",
        "  sortperm=np.argsort(distv)\n",
        "  #distv[np.argsort(distv)]\n",
        "  #idv[np.argsort]\n",
        "  idv=idv[sortperm]\n",
        "  distv=distv[sortperm]\n",
        "  yrelv=yrelv[sortperm]\n",
        "  xrelv=xrelv[sortperm]\n",
        "  return({'idv':idv,'distv':distv,'xrelv':xrelv,'yrelv':yrelv})\n",
        "\n",
        "#GetClosePlayers(player,plID,frID,2)\n",
        "\n",
        "\n",
        "\n",
        "\n"
      ]
    },
    {
      "cell_type": "code",
      "source": [
        ""
      ],
      "metadata": {
        "colab": {
          "base_uri": "https://localhost:8080/",
          "height": 35
        },
        "id": "wB0ero8coWXa",
        "outputId": "a3952196-dfe6-44a3-9baa-90e444dc9224"
      },
      "execution_count": null,
      "outputs": [
        {
          "output_type": "execute_result",
          "data": {
            "application/vnd.google.colaboratory.intrinsic+json": {
              "type": "string"
            },
            "text/plain": [
              "'DEN'"
            ]
          },
          "metadata": {},
          "execution_count": 17
        }
      ]
    },
    {
      "cell_type": "code",
      "execution_count": null,
      "metadata": {
        "colab": {
          "base_uri": "https://localhost:8080/"
        },
        "id": "1NFRQSjZOk8N",
        "outputId": "3cd652b7-50b0-4a22-b203-c907324f8902"
      },
      "outputs": [
        {
          "output_type": "execute_result",
          "data": {
            "text/plain": [
              "[1.4142135623730951, 135.0]"
            ]
          },
          "metadata": {},
          "execution_count": 8
        }
      ],
      "source": [
        "def os2xyspeed(o,s):\n",
        "  if o<90:\n",
        "    ot=o*2*np.pi/360\n",
        "    x=s*np.sin(ot)\n",
        "    y=s*np.cos(ot)\n",
        "  elif o<180:\n",
        "    ot=(180-o)*2*np.pi/360\n",
        "    x=s*np.sin(ot)\n",
        "    y=-s*np.cos(ot)\n",
        "  elif o<180:\n",
        "    ot=(o-180)*2*np.pi/360\n",
        "    x=-s*np.sin(ot)\n",
        "    y=-s*np.cos(ot)\n",
        "  else:\n",
        "    ot=(360-o)*2*np.pi/360\n",
        "    x=-s*np.sin(ot)\n",
        "    y=s*np.cos(ot)\n",
        "  return([x,y])\n",
        "\n",
        "\n",
        "def xyspeed2os(xsp,ysp):\n",
        "  s=np.sqrt(xsp**2+ysp**2)\n",
        "  ot=180*np.arccos(abs(ysp)/s)/np.pi\n",
        "  if xsp>=0 and ysp>=0:\n",
        "    o=ot\n",
        "  elif xsp>=0 and ysp<0:\n",
        "    o=180-ot\n",
        "  elif xsp<0 and ysp<0:\n",
        "    o=ot+180\n",
        "  else:\n",
        "    o=360-ot\n",
        "  return([s,o])\n",
        "  \n",
        "xyspeed2os(1,-1)"
      ]
    },
    {
      "cell_type": "code",
      "execution_count": null,
      "metadata": {
        "id": "2I0jmR-1UaGR"
      },
      "outputs": [],
      "source": [
        "#x,y,s,a,dis,o,dir,jersey,pos,team,playdirectino\n",
        "y=[]\n",
        "x=[]\n",
        "for i in range(len(pIDs)): # for each play\n",
        "  if len(y)>1000000:\n",
        "    print(i)\n",
        "    break\n",
        "  plID=pIDs[i]\n",
        "  teamkick=play_d[plID][4]\n",
        "  homeACR=game_d[plID.split(\"-\")[0]][4]\n",
        "  awayACR=game_d[plID.split(\"-\")[0]][5]\n",
        "  if teamkick==homeACR:\n",
        "    homekick=True\n",
        "  else:\n",
        "    homekick=False\n",
        "  frIDs=list(ret_vids[plID].keys())\n",
        "  for j in range(len(frIDs)-1): # for each frame in a play except the last\n",
        "    frID=frIDs[j]\n",
        "    if float(catchframe[plID])<float(frID): # after catch\n",
        "      continue\n",
        "    playerIDs=list(ret_vids[plID][frID].keys())\n",
        "    \n",
        "    for k in range(len(playerIDs)):\n",
        "      playerID=playerIDs[k]\n",
        "      if playerID==\"NA\":\n",
        "        continue\n",
        "      # get outcome vector: deltax,deltay, a, xspd, yspd\n",
        "      cx=float(ret_vids[plID][frID][playerID][0])\n",
        "      cy=float(ret_vids[plID][frID][playerID][1])\n",
        "      cs=float(ret_vids[plID][frID][playerID][2])\n",
        "      ca=float(ret_vids[plID][frID][playerID][3])\n",
        "      cdis=float(ret_vids[plID][frID][playerID][4])\n",
        "      co=float(ret_vids[plID][frID][playerID][5])\n",
        "      nx=float(ret_vids[plID][frIDs[j+1]][playerID][0])\n",
        "      ny=float(ret_vids[plID][frIDs[j+1]][playerID][1])\n",
        "      ns=float(ret_vids[plID][frIDs[j+1]][playerID][2])\n",
        "      na=float(ret_vids[plID][frIDs[j+1]][playerID][3])\n",
        "      ndis=float(ret_vids[plID][frIDs[j+1]][playerID][4])\n",
        "      no=float(ret_vids[plID][frIDs[j+1]][playerID][5])\n",
        "      temp=os2xyspeed(no,ns)\n",
        "      nxspd=temp[0]\n",
        "      nyspd=temp[1]\n",
        "      temp=os2xyspeed(co,cs)\n",
        "      cxspd=temp[0]\n",
        "      cyspd=temp[1]\n",
        "      cury=[nx-cx,ny-cy,na,nxspd,nyspd]\n",
        "      ### get 3 closest players\n",
        "      gcpout=GetClosePlayers(playerID,plID,frID,radius=250)\n",
        "      # get predictor vector: a, xspd, yspd, dis----plus--- top 3 closest reldis, relx, rely, a, xspd, yspd\n",
        "      curx=[ca,cxspd,cyspd,cdis]\n",
        "      for l in range(5):\n",
        "        ID2=gcpout['idv'][l]\n",
        "        cx2=float(ret_vids[plID][frID][ID2][0])\n",
        "        cy2=float(ret_vids[plID][frID][ID2][1])\n",
        "        cs2=float(ret_vids[plID][frID][ID2][2])\n",
        "        ca2=float(ret_vids[plID][frID][ID2][3])\n",
        "        cdis2=float(ret_vids[plID][frID][ID2][4])\n",
        "        co2=float(ret_vids[plID][frID][ID2][5])\n",
        "        temp=os2xyspeed(co2,cs2)\n",
        "        cxspd2=temp[0]\n",
        "        cyspd2=temp[1]\n",
        "        if ret_vids[plID][frID][ID2][9]==ret_vids[plID][frID][playerID][9]:\n",
        "          sameteam=1\n",
        "        else:\n",
        "          sameteam=0\n",
        "        curx+=[np.sqrt((cx2-cx)**2+(cy2-cy)**2),cx2-cx,cy2-cy,ca2,cxspd2,cyspd2,sameteam]\n",
        "      # also add the relx and rely of the ball to the player\n",
        "      cx2=float(ret_vids[plID][frID]['NA'][0])\n",
        "      cy2=float(ret_vids[plID][frID]['NA'][1])\n",
        "      cretind=0\n",
        "      if (homekick and ret_vids[plID][frID][playerID][9].strip(\"\\\"\")==\"home\") or ((not homekick) and ret_vids[plID][frID][playerID][9].strip(\"\\\"\")==\"away\"):\n",
        "        cretind=1\n",
        "      curx+=[cx2,cy2,cretind]\n",
        "      y.append(cury)\n",
        "      x.append(curx)\n",
        "\n",
        "\n",
        "      \n",
        "\n"
      ]
    },
    {
      "cell_type": "code",
      "execution_count": null,
      "metadata": {
        "id": "zRoB-XkR4bKb"
      },
      "outputs": [],
      "source": [
        "def Get_Triangle_Coords(cx,cy,a,s,o):\n",
        "    minh=1;maxh=3\n",
        "    minw=.66;maxw=1.33\n",
        "    maxs=30\n",
        "    s=np.min((maxs,s))\n",
        "    h=minh+(np.log(1+s/maxs)/np.log(2))*(maxh-minh)\n",
        "    maxa=30\n",
        "    a=np.min((maxa,a))\n",
        "    w=minw+(np.log(1+a/maxa)/np.log(2))*(maxw-minw)\n",
        "    b=np.arctan(w/(2*h))\n",
        "    if o<90:\n",
        "        x1=(h/np.cos(b)-w*np.sin(2*np.pi*(90-o)/360)/(2*np.sin(b+2*np.pi*o/360)))*np.sin(b+2*np.pi*o/360)\n",
        "        y1=np.sqrt(np.abs(h**2-x1**2))\n",
        "        x2=(w/2)*np.sin(2*np.pi*(90-o)/360)\n",
        "        y2=-(w/2)*np.cos(2*np.pi*(90-o)/360)\n",
        "        x3=-x2\n",
        "        y3=-y2\n",
        "    elif o<180:\n",
        "        op = 180-o\n",
        "        xp1=(h/np.cos(b)-w*np.sin(2*np.pi*(90-op)/360)/(2*np.sin(b+2*np.pi*op/360)))*np.sin(b+2*np.pi*op/360)\n",
        "        yp1=np.sqrt(np.abs(h**2-xp1**2))\n",
        "        x1=xp1\n",
        "        y1=-yp1\n",
        "        x2p=(w/2)*np.sin(2*np.pi*(90-op)/360)\n",
        "        y2p=-(w/2)*np.cos(2*np.pi*(90-op)/360)\n",
        "        x3p=-x2p\n",
        "        y3p=-y2p\n",
        "        x2=x2p\n",
        "        y2=-y2p\n",
        "        x3=x3p\n",
        "        y3=-y3p\n",
        "    elif o<270:\n",
        "        op = o-180\n",
        "        xp1=(h/np.cos(b)-w*np.sin(2*np.pi*(90-op)/360)/(2*np.sin(b+2*np.pi*op/360)))*np.sin(b+2*np.pi*op/360)\n",
        "        yp1=np.sqrt(np.abs(h**2-xp1**2))\n",
        "        x1=-xp1\n",
        "        y1=-yp1\n",
        "        x2p=(w/2)*np.sin(2*np.pi*(90-op)/360)\n",
        "        y2p=-(w/2)*np.cos(2*np.pi*(90-op)/360)\n",
        "        x3p=-x2p\n",
        "        y3p=-y2p\n",
        "        x2=-x2p\n",
        "        y2=-y2p\n",
        "        x3=-x3p\n",
        "        y3=-y3p\n",
        "    else:\n",
        "        op = 360-o\n",
        "        xp1=(h/np.cos(b)-w*np.sin(2*np.pi*(90-op)/360)/(2*np.sin(b+2*np.pi*op/360)))*np.sin(b+2*np.pi*op/360)\n",
        "        yp1=np.sqrt(np.abs(h**2-xp1**2))\n",
        "        x1=-xp1\n",
        "        y1=yp1\n",
        "        x2p=(w/2)*np.sin(2*np.pi*(90-op)/360)\n",
        "        y2p=-(w/2)*np.cos(2*np.pi*(90-op)/360)\n",
        "        x3p=-x2p\n",
        "        y3p=-y2p\n",
        "        x2=-x2p\n",
        "        y2=y2p\n",
        "        x3=-x3p\n",
        "        y3=y3p\n",
        "    return(([cx+x1,cx+x2,cx+x3],[cy+y1,cy+y2,cy+y3]))\n",
        "        \n",
        "\n",
        "# do log of acceleration+1.5\n",
        "\n",
        "\n",
        "def fig2img(fig,dpi=20):\n",
        "    \"\"\"Convert a Matplotlib figure to a PIL Image and return it\"\"\"\n",
        "    buf = io.BytesIO()\n",
        "    fig.savefig(buf,bbox_inches='tight',pad_inches=0,dpi=dpi)\n",
        "    buf.seek(0)\n",
        "    img = Image.open(buf)\n",
        "    return img\n",
        "\n",
        "def GenRGBFromPlayFrame(plID,frID,dpi=30):\n",
        "    teamkick=play_d[plID][4]\n",
        "    homeACR=game_d[plID.split(\"-\")[0]][4]\n",
        "    awayACR=game_d[plID.split(\"-\")[0]][5]\n",
        "    outd={} # this will store 3 channels, home team position, away team position, and football.\n",
        "    resparam=.5\n",
        "    curFrInfo=ret_vids[plID][frID]\n",
        "    for channel in range(3):\n",
        "        fig=plt.figure(figsize=(120*resparam,53.3*resparam))\n",
        "        plt.axis('off')\n",
        "        plt.xlim([0,120])\n",
        "        plt.ylim([0,53.3])\n",
        "        for ele in curFrInfo:\n",
        "            xval=float(curFrInfo[ele][0])\n",
        "            yval=float(curFrInfo[ele][1])\n",
        "            if ele=='NA':\n",
        "                if channel==2:\n",
        "                    plt.scatter([xval],[yval],c=\"green\",s=500)\n",
        "                    continue\n",
        "                continue\n",
        "            cs=float(curFrInfo[ele][2])\n",
        "            ca=float(curFrInfo[ele][3])\n",
        "            co=float(curFrInfo[ele][5])\n",
        "            pval=Get_Triangle_Coords(xval,yval,ca,cs,co)\n",
        "            if curFrInfo[ele][9]=='\\\"home\\\"' and teamkick==homeACR and channel==0:\n",
        "                col=\"red\"\n",
        "                plt.fill(pval[0],pval[1],c=col)\n",
        "            elif curFrInfo[ele][9]=='\\\"home\\\"' and teamkick==awayACR and channel==1:\n",
        "                col=\"blue\"\n",
        "                plt.fill(pval[0],pval[1],c=col)\n",
        "            elif curFrInfo[ele][9]=='\\\"away\\\"' and teamkick==homeACR and channel==1:\n",
        "                col=\"blue\"\n",
        "                plt.fill(pval[0],pval[1],c=col)\n",
        "            elif curFrInfo[ele][9]=='\\\"away\\\"' and teamkick==awayACR and channel==0:\n",
        "                col=\"red\"\n",
        "                plt.fill(pval[0],pval[1],c=col)\n",
        "        img = fig2img(fig,dpi=dpi)\n",
        "        convert_tensor = tv.transforms.ToTensor()\n",
        "        to_grayscale = tv.transforms.Grayscale()\n",
        "        imgt=convert_tensor(to_grayscale(img))\n",
        "        if curFrInfo['NA'][10].strip(\"\\\"\") == 'left':\n",
        "            imgt[0]=torch.fliplr(imgt[0])\n",
        "        epsilon=.01\n",
        "        imgt[0]=1-torch.floor(imgt[0]+epsilon)\n",
        "        outd[channel]=imgt[0]\n",
        "        plt.close()\n",
        "    imgout=torch.zeros([3,imgt.size()[1],imgt.size()[2]])\n",
        "    for channel in range(3):\n",
        "        imgout[channel]=outd[channel]\n",
        "    return(imgout)\n",
        "        \n",
        "\n",
        "# Get outcome variable for a given play\n",
        "# If the outcome is yards gained then this is a function of the frame as well.\n",
        "def GetOutcomeVar(plID,frID):\n",
        "    #subtract yards from catch to current position from total yards\n",
        "    # NA:condition on no penalty\n",
        "    if play_d[plID][15] != 'NA':\n",
        "        return('NA')\n",
        "    ENDYARDLINE=float(ret_vids[plID][str(len(ret_vids[plID]))]['NA'][0])\n",
        "    CURYARDLINE=float(ret_vids[plID][frID]['NA'][0])\n",
        "    if ret_vids[plID]['1']['NA'][10].strip(\"\\\"\")=='right':\n",
        "        return(CURYARDLINE-ENDYARDLINE)\n",
        "    else:\n",
        "        return(ENDYARDLINE-CURYARDLINE)\n"
      ]
    },
    {
      "cell_type": "code",
      "execution_count": null,
      "metadata": {
        "id": "vz3NfeJvFxRg"
      },
      "outputs": [],
      "source": [
        "def testerrv(net,testloader):\n",
        "  outerr=[]\n",
        "  with torch.no_grad():\n",
        "        for data in testloader:\n",
        "            images, labels = data\n",
        "            # calculate outputs by running images through the network\n",
        "            images=images.float()\n",
        "            labels=labels.float()\n",
        "            outputs = net(images)\n",
        "            # the class with the highest energy is what we choose as prediction\n",
        "            #print(outputs,labels)\n",
        "            runtot=np.zeros(5)\n",
        "            denom=float(labels.shape[0])\n",
        "            for i in range(int(denom)):\n",
        "              for j in range(5):\n",
        "                runtot[j]+=abs(labels[i,j]-outputs[i,j])/denom\n",
        "            outerr.append(runtot)\n",
        "  totouterr=np.zeros(5)\n",
        "  for i in range(len(outerr)):\n",
        "    for j in range(5):\n",
        "      totouterr[j]+=outerr[i][j]/len(outerr)\n",
        "  print(outputs[0])\n",
        "  print(labels[0])\n",
        "  return(totouterr)"
      ]
    },
    {
      "cell_type": "code",
      "execution_count": null,
      "metadata": {
        "id": "uzUZ1OmND5sv"
      },
      "outputs": [],
      "source": [
        "yt=torch.tensor(y)\n",
        "xt=torch.tensor(x)"
      ]
    },
    {
      "cell_type": "code",
      "execution_count": null,
      "metadata": {
        "colab": {
          "base_uri": "https://localhost:8080/"
        },
        "id": "w0nEISj4eA43",
        "outputId": "44ae1a24-c50b-46e7-dfbc-34ea225b5647"
      },
      "outputs": [
        {
          "output_type": "execute_result",
          "data": {
            "text/plain": [
              "tensor([[ 3.1000e-01, -1.0267e-01,  1.2271e-01,  ...,  4.5190e+01,\n",
              "          2.6320e+01,  0.0000e+00],\n",
              "        [ 1.9000e-01, -6.3529e-02, -2.9395e-02,  ...,  4.5190e+01,\n",
              "          2.6320e+01,  0.0000e+00],\n",
              "        [ 4.7000e-01, -6.8000e-02, -1.6614e-02,  ...,  4.5190e+01,\n",
              "          2.6320e+01,  0.0000e+00],\n",
              "        ...,\n",
              "        [ 7.7000e-01,  8.5757e+00,  2.7100e-01,  ...,  1.1044e+02,\n",
              "          3.2770e+01,  1.0000e+00],\n",
              "        [ 2.4400e+00,  5.4435e-01, -1.6421e+00,  ...,  1.1044e+02,\n",
              "          3.2770e+01,  0.0000e+00],\n",
              "        [ 1.6200e+00,  4.5704e-01,  3.8328e+00,  ...,  1.1044e+02,\n",
              "          3.2770e+01,  0.0000e+00]], dtype=torch.float64)"
            ]
          },
          "metadata": {},
          "execution_count": 22
        }
      ],
      "source": [
        "xt"
      ]
    },
    {
      "cell_type": "code",
      "execution_count": null,
      "metadata": {
        "id": "lZlrPs9lYGqm"
      },
      "outputs": [],
      "source": [
        "\n",
        "trainset=torch.utils.data.TensorDataset(xt[:int(len(yt)*.9)],yt[:int(len(yt)*.9)])\n",
        "testset=torch.utils.data.TensorDataset(xt[int(len(yt)*.9):],yt[int(len(yt)*.9):])\n",
        "\n",
        "batch_size=64\n",
        "trainloader = torch.utils.data.DataLoader(trainset, batch_size=batch_size,shuffle=True, num_workers=0)\n",
        "testloader = torch.utils.data.DataLoader(testset, batch_size=batch_size,shuffle=True, num_workers=0)\n",
        "\n",
        "\n",
        "\n",
        "\n",
        "#in_d=pickle.load(open(\"vid3ch\"+YEAR+\".pickle\",'rb'))\n",
        "#xt=in_d['xt']\n",
        "#yt=in_d['yt']"
      ]
    },
    {
      "cell_type": "code",
      "execution_count": null,
      "metadata": {
        "id": "2ImN8-YQ5Dhn"
      },
      "outputs": [],
      "source": [
        "class Net(nn.Module):\n",
        "    def __init__(self):\n",
        "        super().__init__()\n",
        "        self.fc1 = nn.Linear(42, 50)\n",
        "        self.fc2 = nn.Linear(50,25)\n",
        "        self.fc3 = nn.Linear(25,10)\n",
        "        self.fc4 = nn.Linear(10, 5)\n",
        "\n",
        "    def forward(self, x):\n",
        "        x = F.relu(self.fc1(x))\n",
        "        x = F.relu(self.fc2(x))\n",
        "        x = F.relu(self.fc3(x))\n",
        "        x = self.fc4(x)#.squeeze()\n",
        "        return x\n",
        "    \n",
        "    \n",
        "\n",
        "net = Net()\n"
      ]
    },
    {
      "cell_type": "code",
      "execution_count": null,
      "metadata": {
        "id": "zP-CdFba-dFc",
        "colab": {
          "base_uri": "https://localhost:8080/"
        },
        "outputId": "dbc9f04c-d91f-4564-a9e9-4976c921d22e"
      },
      "outputs": [
        {
          "output_type": "execute_result",
          "data": {
            "text/plain": [
              "<All keys matched successfully>"
            ]
          },
          "metadata": {},
          "execution_count": 163
        }
      ],
      "source": [
        "#modelpath=data_dir+\"/nextposFFNN\"+\"619\"+\".pt\"\n",
        "#net.load_state_dict(torch.load(modelpath))"
      ]
    },
    {
      "cell_type": "code",
      "execution_count": null,
      "metadata": {
        "id": "co4g63dC5Jte",
        "colab": {
          "base_uri": "https://localhost:8080/",
          "height": 1000
        },
        "outputId": "673a078b-5954-407c-9cee-cd7802df80e8"
      },
      "outputs": [
        {
          "output_type": "stream",
          "name": "stdout",
          "text": [
            "[1, 10000] loss: 0.063\n",
            "tensor([0.3411, 0.0470, 2.4409, 3.4589, 0.1732])\n",
            "tensor([ 0.3400, -0.0100,  2.4800,  3.3383,  0.1061])\n",
            "[0.0703325  0.07208639 0.19489999 0.20017725 0.33853534] 0.8760314652970463\n",
            "[2, 10000] loss: 0.061\n",
            "tensor([-0.0829, -0.0365,  3.6594, -1.1188, -2.1597])\n",
            "tensor([-0.2400,  0.0100,  3.3700, -1.6924, -1.9738])\n",
            "[0.06813896 0.07083302 0.1861996  0.18825945 0.25511589] 0.7685469077583226\n",
            "[3, 10000] loss: 0.060\n",
            "tensor([ 0.3677, -0.6436,  3.9490,  1.4970, -6.7536])\n",
            "tensor([ 0.5800, -0.3500,  4.3300,  1.2023, -6.4184])\n",
            "[0.06208509 0.07033769 0.19027604 0.20536376 0.26211006] 0.7901726451842359\n",
            "[4, 10000] loss: 0.059\n",
            "tensor([-0.5723,  0.0793,  0.8982, -5.8789, -1.6008])\n",
            "tensor([-0.6200, -0.0500,  0.6800, -6.0523, -1.5596])\n",
            "[0.06209481 0.06722781 0.18493286 0.20514537 0.26126773] 0.7806685734213443\n",
            "[5, 10000] loss: 0.058\n",
            "tensor([ 0.0218, -0.0258,  0.5544,  0.2615, -0.1065])\n",
            "tensor([0.0300, 0.0100, 0.5800, 0.3695, 0.0196])\n",
            "[0.06680537 0.07329469 0.18236113 0.18507743 0.2717372 ] 0.7792758119813274\n",
            "[6, 10000] loss: 0.058\n",
            "tensor([-0.0140, -0.0055,  0.2843, -0.0477, -0.0321])\n",
            "tensor([ 0.0000,  0.0100,  0.1700, -0.0129,  0.0379])\n",
            "[0.06036607 0.06828491 0.18171545 0.18792229 0.25106565] 0.7493543736778716\n",
            "[7, 10000] loss: 0.058\n",
            "tensor([ 0.1640, -0.2101,  0.8065,  3.8021, -0.8532])\n",
            "tensor([ 0.2500, -0.3000,  0.7300,  3.6158, -1.2323])\n",
            "[0.05858347 0.06594907 0.18222315 0.17781608 0.25123177] 0.7358035417621731\n",
            "[8, 10000] loss: 0.057\n",
            "tensor([ 0.4535, -0.0688,  0.6919,  4.6911, -0.3884])\n",
            "tensor([ 0.4700, -0.0400,  0.6000,  4.7499, -0.3097])\n",
            "[0.05766751 0.06536014 0.17966845 0.18035636 0.24990534] 0.7329577974304492\n",
            "[9, 10000] loss: 0.057\n",
            "tensor([ 0.9389,  0.0301,  1.0767,  8.7243, -0.7713])\n",
            "tensor([ 0.8700, -0.0700,  0.9400,  8.7050, -0.2964])\n",
            "[0.06022828 0.06747389 0.17748117 0.17846932 0.24230133] 0.725953994357204\n",
            "[10, 10000] loss: 0.057\n",
            "tensor([-0.4029, -0.1741,  1.2279, -4.0281, -2.6654])\n",
            "tensor([-0.4400, -0.1200,  1.0100, -3.7928, -2.6380])\n",
            "[0.05631884 0.06581339 0.18335835 0.17523769 0.26330571] 0.7440339828195645\n",
            "[11, 10000] loss: 0.056\n",
            "tensor([-0.5988,  0.1078,  4.5542,  1.5326,  3.6752])\n",
            "tensor([-0.4100, -0.1200,  4.6600,  1.7988,  3.5503])\n",
            "[0.06005693 0.06973341 0.18469712 0.17776303 0.24653659] 0.7387870879748641\n",
            "[12, 10000] loss: 0.056\n",
            "tensor([-0.1628,  0.3803,  1.6411, -0.8647,  3.5835])\n",
            "tensor([-0.0700,  0.3600,  1.4900, -0.6463,  3.6431])\n",
            "[0.0634823  0.06514047 0.18401293 0.17971159 0.26703385] 0.7593811491744422\n",
            "[13, 10000] loss: 0.056\n",
            "tensor([-0.7681, -0.2523,  1.7980, -7.1055, -4.6146])\n",
            "tensor([-0.7600, -0.3700,  1.5500, -7.3122, -4.3728])\n",
            "[0.05714146 0.06541573 0.17873799 0.172016   0.24571511] 0.719026290921709\n",
            "[14, 10000] loss: 0.056\n",
            "tensor([4.4037e-04, 5.4080e-02, 9.1615e-01, 8.0969e-01, 1.9028e-01])\n",
            "tensor([-0.0100,  0.0800,  0.9200,  0.7723,  0.2444])\n",
            "[0.06350284 0.06494665 0.17922291 0.18594017 0.26115806] 0.7547706447081384\n",
            "[15, 10000] loss: 0.055\n",
            "tensor([-0.5767,  0.0084,  3.0762, -5.5710, -0.7199])\n",
            "tensor([-0.5400,  0.0700,  2.8600, -5.5261, -0.8427])\n",
            "[0.06979009 0.06431542 0.18530926 0.18337935 0.24627035] 0.7490644600586204\n",
            "[16, 10000] loss: 0.055\n",
            "tensor([ 0.0709, -0.1025,  0.5424, -1.5379, -0.9470])\n",
            "tensor([ 0.0200, -0.1800,  0.4300, -1.4936, -0.9120])\n",
            "[0.05713259 0.06684887 0.17740102 0.18115338 0.25278685] 0.7353227185291435\n",
            "[17, 10000] loss: 0.055\n",
            "tensor([0.8048, 0.0380, 0.5939, 8.0536, 0.3843])\n",
            "tensor([0.8100, 0.0600, 0.5800, 8.1186, 0.1488])\n",
            "[0.05767696 0.06378134 0.19274152 0.18358873 0.24120054] 0.7389890885834451\n",
            "[18, 10000] loss: 0.055\n",
            "tensor([-0.7216, -0.1322,  0.9518, -7.2266, -1.0853])\n",
            "tensor([-0.7000, -0.1700,  1.1900, -7.1831, -0.8222])\n",
            "[0.06272557 0.06253276 0.17646937 0.20293563 0.25388388] 0.7585471988429018\n",
            "[19, 10000] loss: 0.055\n",
            "tensor([ 0.0020, -0.0112,  0.6507, -0.2413, -0.1199])\n",
            "tensor([ 0.0300,  0.0200,  0.7100, -0.2451, -0.2357])\n",
            "[0.05973706 0.06438709 0.17773164 0.2007032  0.25260606] 0.7551650483513569\n",
            "[20, 10000] loss: 0.055\n",
            "tensor([ 0.0982,  0.0287,  1.5959, -0.2055,  2.2374])\n",
            "tensor([ 0.1000,  0.1900,  1.4600, -0.2836,  2.2421])\n",
            "[0.05794528 0.06596067 0.18683371 0.18511955 0.24253998] 0.7383991882466434\n",
            "[21, 10000] loss: 0.055\n"
          ]
        },
        {
          "output_type": "error",
          "ename": "KeyboardInterrupt",
          "evalue": "ignored",
          "traceback": [
            "\u001b[0;31m---------------------------------------------------------------------------\u001b[0m",
            "\u001b[0;31mKeyboardInterrupt\u001b[0m                         Traceback (most recent call last)",
            "\u001b[0;32m<ipython-input-35-fc8aed252c20>\u001b[0m in \u001b[0;36m<module>\u001b[0;34m()\u001b[0m\n\u001b[1;32m     32\u001b[0m \u001b[0;31m#    torch.save(net.state_dict(), modelpath)\u001b[0m\u001b[0;34m\u001b[0m\u001b[0;34m\u001b[0m\u001b[0;34m\u001b[0m\u001b[0m\n\u001b[1;32m     33\u001b[0m \u001b[0;31m#    print(testerrv(net,trainloader))\u001b[0m\u001b[0;34m\u001b[0m\u001b[0;34m\u001b[0m\u001b[0;34m\u001b[0m\u001b[0m\n\u001b[0;32m---> 34\u001b[0;31m     \u001b[0mtesterr\u001b[0m\u001b[0;34m=\u001b[0m\u001b[0mtesterrv\u001b[0m\u001b[0;34m(\u001b[0m\u001b[0mnet\u001b[0m\u001b[0;34m,\u001b[0m\u001b[0mtestloader\u001b[0m\u001b[0;34m)\u001b[0m\u001b[0;34m\u001b[0m\u001b[0;34m\u001b[0m\u001b[0m\n\u001b[0m\u001b[1;32m     35\u001b[0m     \u001b[0mprint\u001b[0m\u001b[0;34m(\u001b[0m\u001b[0mtesterr\u001b[0m\u001b[0;34m,\u001b[0m\u001b[0msum\u001b[0m\u001b[0;34m(\u001b[0m\u001b[0mtesterr\u001b[0m\u001b[0;34m)\u001b[0m\u001b[0;34m)\u001b[0m\u001b[0;34m\u001b[0m\u001b[0;34m\u001b[0m\u001b[0m\n\u001b[1;32m     36\u001b[0m     \u001b[0;32mif\u001b[0m \u001b[0mepoch\u001b[0m \u001b[0;34m%\u001b[0m \u001b[0;36m20\u001b[0m\u001b[0;34m==\u001b[0m\u001b[0;36m19\u001b[0m\u001b[0;34m:\u001b[0m\u001b[0;34m\u001b[0m\u001b[0;34m\u001b[0m\u001b[0m\n",
            "\u001b[0;32m<ipython-input-20-303eacb2d843>\u001b[0m in \u001b[0;36mtesterrv\u001b[0;34m(net, testloader)\u001b[0m\n\u001b[1;32m     14\u001b[0m             \u001b[0;32mfor\u001b[0m \u001b[0mi\u001b[0m \u001b[0;32min\u001b[0m \u001b[0mrange\u001b[0m\u001b[0;34m(\u001b[0m\u001b[0mint\u001b[0m\u001b[0;34m(\u001b[0m\u001b[0mdenom\u001b[0m\u001b[0;34m)\u001b[0m\u001b[0;34m)\u001b[0m\u001b[0;34m:\u001b[0m\u001b[0;34m\u001b[0m\u001b[0;34m\u001b[0m\u001b[0m\n\u001b[1;32m     15\u001b[0m               \u001b[0;32mfor\u001b[0m \u001b[0mj\u001b[0m \u001b[0;32min\u001b[0m \u001b[0mrange\u001b[0m\u001b[0;34m(\u001b[0m\u001b[0;36m5\u001b[0m\u001b[0;34m)\u001b[0m\u001b[0;34m:\u001b[0m\u001b[0;34m\u001b[0m\u001b[0;34m\u001b[0m\u001b[0m\n\u001b[0;32m---> 16\u001b[0;31m                 \u001b[0mruntot\u001b[0m\u001b[0;34m[\u001b[0m\u001b[0mj\u001b[0m\u001b[0;34m]\u001b[0m\u001b[0;34m+=\u001b[0m\u001b[0mabs\u001b[0m\u001b[0;34m(\u001b[0m\u001b[0mlabels\u001b[0m\u001b[0;34m[\u001b[0m\u001b[0mi\u001b[0m\u001b[0;34m,\u001b[0m\u001b[0mj\u001b[0m\u001b[0;34m]\u001b[0m\u001b[0;34m-\u001b[0m\u001b[0moutputs\u001b[0m\u001b[0;34m[\u001b[0m\u001b[0mi\u001b[0m\u001b[0;34m,\u001b[0m\u001b[0mj\u001b[0m\u001b[0;34m]\u001b[0m\u001b[0;34m)\u001b[0m\u001b[0;34m/\u001b[0m\u001b[0mdenom\u001b[0m\u001b[0;34m\u001b[0m\u001b[0;34m\u001b[0m\u001b[0m\n\u001b[0m\u001b[1;32m     17\u001b[0m             \u001b[0mouterr\u001b[0m\u001b[0;34m.\u001b[0m\u001b[0mappend\u001b[0m\u001b[0;34m(\u001b[0m\u001b[0mruntot\u001b[0m\u001b[0;34m)\u001b[0m\u001b[0;34m\u001b[0m\u001b[0;34m\u001b[0m\u001b[0m\n\u001b[1;32m     18\u001b[0m   \u001b[0mtotouterr\u001b[0m\u001b[0;34m=\u001b[0m\u001b[0mnp\u001b[0m\u001b[0;34m.\u001b[0m\u001b[0mzeros\u001b[0m\u001b[0;34m(\u001b[0m\u001b[0;36m5\u001b[0m\u001b[0;34m)\u001b[0m\u001b[0;34m\u001b[0m\u001b[0;34m\u001b[0m\u001b[0m\n",
            "\u001b[0;31mKeyboardInterrupt\u001b[0m: "
          ]
        }
      ],
      "source": [
        "criterion = nn.MSELoss(reduction=\"mean\")\n",
        "optimizer = optim.Adam(net.parameters(), lr=0.001)#, momentum=0.95)\n",
        "#optimizer = optim.SGD(net.parameters(), lr=0.001, momentum=0.95)\n",
        "testcor=[]\n",
        "traincor=[]\n",
        "for epoch in range(2000):  # loop over the dataset multiple times\n",
        "    running_loss = 0.0\n",
        "    for i, data in enumerate(trainloader, 0):\n",
        "        # get the inputs; data is a list of [inputs, labels]\n",
        "        inputs, labels = data\n",
        "        inputs=inputs.float()\n",
        "        labels=labels.float()\n",
        "        # zero the parameter gradients\n",
        "        optimizer.zero_grad()\n",
        "        # forward + backward + optimize\n",
        "        outputs = net(inputs)\n",
        "        loss = criterion(outputs, labels)\n",
        "        loss.backward()\n",
        "        optimizer.step()\n",
        "        # print statistics\n",
        "        running_loss += loss.item()\n",
        "        #print(i)\n",
        "        if i % 10000 == 9999:    # print every 2000 mini-batches\n",
        "            print('[%d, %5d] loss: %.3f' %\n",
        "                  (epoch + 1, i + 1, running_loss / 10000))\n",
        "            running_loss = 0.0\n",
        "#    curtraincor=tensorcorr(trainloader,net)\n",
        "#    curtestcor=tensorcorr(testloader,net)\n",
        "#    print(\"testcor: \", curtestcor, \"; traincor: \",curtraincor)\n",
        "#    traincor.append(curtraincor)\n",
        "#    testcor.append(curtestcor)\n",
        "#    torch.save(net.state_dict(), modelpath)\n",
        "#    print(testerrv(net,trainloader))\n",
        "    testerr=testerrv(net,testloader)\n",
        "    print(testerr,sum(testerr))\n",
        "    if epoch % 20==19:\n",
        "      torch.save(net.state_dict(),data_dir+\"/nextposFFNN_take2_\"+str(epoch)+\".pt\")\n",
        "print('Finished Training')\n"
      ]
    },
    {
      "cell_type": "code",
      "execution_count": null,
      "metadata": {
        "colab": {
          "base_uri": "https://localhost:8080/"
        },
        "id": "Ap3bTPThsAMI",
        "outputId": "686e2d12-f69b-42e6-da8c-6ce84d60edd8"
      },
      "outputs": [
        {
          "output_type": "stream",
          "name": "stdout",
          "text": [
            "tensor([-0.0072,  0.0406,  0.1818,  0.1057,  0.0422],\n",
            "       grad_fn=<SelectBackward0>)\n",
            "tensor([0.0100, 0.0000, 0.1700, 0.1056, 0.0308])\n"
          ]
        }
      ],
      "source": [
        "print(outputs[1])\n",
        "print(labels[1])\n"
      ]
    },
    {
      "cell_type": "code",
      "execution_count": null,
      "metadata": {
        "colab": {
          "base_uri": "https://localhost:8080/"
        },
        "id": "mgODWV6buJ_I",
        "outputId": "078f710e-ef78-4be7-b3c6-069fa63d166f"
      },
      "outputs": [
        {
          "output_type": "stream",
          "name": "stdout",
          "text": [
            "tensor([ 0.0058,  0.0040,  0.1958, -0.0716,  0.0089])\n",
            "tensor([-0.0100,  0.0000,  0.0300, -0.0210,  0.0454])\n"
          ]
        },
        {
          "output_type": "execute_result",
          "data": {
            "text/plain": [
              "array([0.05644637, 0.06513546, 0.17668964, 0.18321152, 0.24541968])"
            ]
          },
          "metadata": {},
          "execution_count": 37
        }
      ],
      "source": [
        "testerrv(net,testloader)"
      ]
    }
  ],
  "metadata": {
    "accelerator": "TPU",
    "colab": {
      "background_execution": "on",
      "collapsed_sections": [],
      "machine_shape": "hm",
      "name": "nextposFFNN",
      "provenance": [],
      "authorship_tag": "ABX9TyNL5ha7iNj8tAvnx9xw19HA",
      "include_colab_link": true
    },
    "kernelspec": {
      "display_name": "Python 3",
      "name": "python3"
    },
    "language_info": {
      "name": "python"
    }
  },
  "nbformat": 4,
  "nbformat_minor": 0
}