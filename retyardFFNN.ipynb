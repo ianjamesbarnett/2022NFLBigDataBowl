{
  "cells": [
    {
      "cell_type": "markdown",
      "metadata": {
        "id": "view-in-github",
        "colab_type": "text"
      },
      "source": [
        "<a href=\"https://colab.research.google.com/github/ianjamesbarnett/2022NFLBigDataBowl/blob/main/retyardFFNN.ipynb\" target=\"_parent\"><img src=\"https://colab.research.google.com/assets/colab-badge.svg\" alt=\"Open In Colab\"/></a>"
      ]
    },
    {
      "cell_type": "code",
      "execution_count": null,
      "metadata": {
        "id": "T409B_e22voV"
      },
      "outputs": [],
      "source": [
        "import math\n",
        "import numpy as np\n",
        "import matplotlib.pyplot as plt\n",
        "import os\n",
        "import torch\n",
        "import io\n",
        "import torchvision as tv \n",
        "from PIL import Image\n",
        "import torch.nn as nn\n",
        "import torch.nn.functional as F\n",
        "import torch.optim as optim\n",
        "import pickle\n",
        "import gc\n",
        "\n"
      ]
    },
    {
      "cell_type": "code",
      "execution_count": null,
      "metadata": {
        "colab": {
          "base_uri": "https://localhost:8080/"
        },
        "id": "I-mn-JWZ3Swc",
        "outputId": "76b74003-4f54-43ee-a937-650d596a9fd1"
      },
      "outputs": [
        {
          "output_type": "stream",
          "name": "stdout",
          "text": [
            "Drive already mounted at /content/drive; to attempt to forcibly remount, call drive.mount(\"/content/drive\", force_remount=True).\n"
          ]
        }
      ],
      "source": [
        "from google.colab import drive\n",
        "drive.mount('/content/drive')\n"
      ]
    },
    {
      "cell_type": "code",
      "execution_count": null,
      "metadata": {
        "id": "CLXV1lLb21QN"
      },
      "outputs": [],
      "source": [
        "data_dir = \"/content/drive/MyDrive/NFLBigDataBowl2022\"\n",
        "os.chdir(data_dir)\n",
        "\n",
        "YEAR=\"2018\";maxplays=756\n",
        "#YEAR=\"2019\";maxplays=749\n",
        "#YEAR=\"2020\";maxplays=855\n",
        "\n",
        "\n",
        "filein=open(data_dir+\"/tracking\"+YEAR+\".csv\",'r')\n",
        "line=filein.readline()\n",
        "\n",
        "filein2=open(data_dir+\"/games.csv\",'r')\n",
        "filein2.readline()\n",
        "game_d={}\n",
        "for line in filein2:\n",
        "    line_v=[x.strip('\\\"') for x in line.strip(\"\\n\").split(\",\")]\n",
        "    game_d[line_v[0]]=line_v[1:]\n",
        "\n",
        "filein3=open(data_dir+\"/plays.csv\",'r')\n",
        "filein3.readline()\n",
        "play_d={}\n",
        "for line in filein3:\n",
        "    line_v=[x.strip('\\\"') for x in line.strip(\"\\n\").split(\",\")]\n",
        "    play_d[line_v[0]+\"-\"+line_v[1]]=line_v[2:]\n"
      ]
    },
    {
      "cell_type": "code",
      "source": [
        "def PlotFieldPosition(temp):\n",
        "    plotdata = {'x':[],'y':[],'s':[],'a':[],'o':[],'dir':[],'jerseyNumber':[],'position':[],'team':[],'color':[]}\n",
        "    for key in temp:\n",
        "        plotdata['x'].append(float(temp[key][0]))\n",
        "        plotdata['y'].append(float(temp[key][1]))\n",
        "        plotdata['s'].append(float(temp[key][2]))\n",
        "        plotdata['a'].append(float(temp[key][3]))\n",
        "        plotdata['o'].append(temp[key][5])\n",
        "        plotdata['dir'].append(temp[key][6])\n",
        "        plotdata['jerseyNumber'].append(temp[key][7])\n",
        "        plotdata['position'].append(temp[key][8])\n",
        "        plotdata['team'].append(temp[key][9])\n",
        "        if temp[key][9].strip(\"\\\"\")==\"football\":\n",
        "            plotdata['color'].append(0)    \n",
        "        elif temp[key][9].strip(\"\\\"\")==\"away\":\n",
        "            plotdata['color'].append(1)    \n",
        "        else:\n",
        "            plotdata['color'].append(2)    \n",
        "    plt.scatter('y','x',c='color',data=plotdata)\n",
        "    plt.show()\n",
        "\n",
        "#PlotFieldPosition(pret[key1])  \n"
      ],
      "metadata": {
        "id": "NaEh0wYFKDOh"
      },
      "execution_count": null,
      "outputs": []
    },
    {
      "cell_type": "code",
      "execution_count": null,
      "metadata": {
        "id": "550VVZjH4UM4"
      },
      "outputs": [],
      "source": [
        "\n",
        "\n",
        "\n",
        "\n",
        "\n",
        "\n",
        "# get IDs of all plays to turn into videos (returned punts and kicks)\n",
        "catchframe = {}\n",
        "pID_s=set()\n",
        "filein.seek(0)\n",
        "for line in filein:\n",
        "    line_v=line.split(\",\")\n",
        "    if line_v[8].strip(\"\\\"\")==\"punt_received\" or line_v[8].strip(\"\\\"\")==\"kick_received\":\n",
        "        gpID = line_v[15]+\"-\"+line_v[16]\n",
        "        if play_d[gpID][6]==\"Return\":\n",
        "            pID_s.add(gpID)\n",
        "            catchframe[gpID]=line_v[14]\n",
        "\n",
        "\n",
        "ret_vids=pickle.load(open(\"retvids1_final_\"+YEAR+\".pickle\",'rb'))\n",
        "ret_vids2=pickle.load(open(\"retvids2_final_\"+YEAR+\".pickle\",'rb'))\n",
        "\n",
        "# Create multi-channel images\n",
        "\n",
        "pIDs=list(ret_vids.keys())\n"
      ]
    },
    {
      "cell_type": "code",
      "source": [
        "len(pIDs)"
      ],
      "metadata": {
        "colab": {
          "base_uri": "https://localhost:8080/"
        },
        "id": "HC-QW8IGKhRb",
        "outputId": "72ccf4f1-d0c8-4747-ea04-f9456a2e7d1d"
      },
      "execution_count": null,
      "outputs": [
        {
          "output_type": "execute_result",
          "data": {
            "text/plain": [
              "756"
            ]
          },
          "metadata": {},
          "execution_count": 143
        }
      ]
    },
    {
      "cell_type": "code",
      "execution_count": null,
      "metadata": {
        "id": "zRoB-XkR4bKb"
      },
      "outputs": [],
      "source": [
        "\n",
        "\n",
        "# Get outcome variable for a given play\n",
        "# If the outcome is yards gained then this is a function of the frame as well.\n",
        "def GetOutcomeVar(plID,frID,ret_vids):\n",
        "    #subtract yards from catch to current position from total yards\n",
        "    # NA:condition on no penalty\n",
        "    if play_d[plID][15] != 'NA':\n",
        "        return('NA')\n",
        "    ENDYARDLINE=float(ret_vids[plID][str(len(ret_vids[plID]))]['NA'][0])\n",
        "    CURYARDLINE=float(ret_vids[plID][frID]['NA'][0])\n",
        "    if ret_vids[plID]['1']['NA'][10].strip(\"\\\"\")=='right':\n",
        "        return(CURYARDLINE-ENDYARDLINE)\n",
        "    else:\n",
        "        return(ENDYARDLINE-CURYARDLINE)\n",
        "\n",
        "def os2xyspeed(o,s):\n",
        "  if o<90:\n",
        "    ot=o*2*np.pi/360\n",
        "    x=s*np.sin(ot)\n",
        "    y=s*np.cos(ot)\n",
        "  elif o<180:\n",
        "    ot=(180-o)*2*np.pi/360\n",
        "    x=s*np.sin(ot)\n",
        "    y=-s*np.cos(ot)\n",
        "  elif o<180:\n",
        "    ot=(o-180)*2*np.pi/360\n",
        "    x=-s*np.sin(ot)\n",
        "    y=-s*np.cos(ot)\n",
        "  else:\n",
        "    ot=(360-o)*2*np.pi/360\n",
        "    x=-s*np.sin(ot)\n",
        "    y=s*np.cos(ot)\n",
        "  return([x,y])\n",
        "\n",
        "\n",
        "def GetClosePlayers(player,plID,frID,ret_vids,radius=250):\n",
        "  curd=ret_vids[plID][frID]\n",
        "  ofIDs=list(curd.keys())\n",
        "  cx0=float(curd[player][0])\n",
        "  cy0=float(curd[player][1])\n",
        "  distv=[]\n",
        "  xrelv=[]\n",
        "  yrelv=[]\n",
        "  idv=[]\n",
        "  for id in ofIDs:\n",
        "    if id=='NA':\n",
        "      continue\n",
        "    xrel=float(curd[id][0])-cx0\n",
        "    yrel=float(curd[id][1])-cy0\n",
        "    curdist=np.sqrt(xrel**2+yrel**2)\n",
        "    if curdist>radius:\n",
        "      continue\n",
        "    distv.append(curdist)\n",
        "    idv.append(id)\n",
        "    xrelv.append(xrel)\n",
        "    yrelv.append(yrel)\n",
        "  distv=np.array(distv)\n",
        "  yrelv=np.array(yrelv)\n",
        "  xrelv=np.array(xrelv)\n",
        "  idv=np.array(idv)\n",
        "  sortperm=np.argsort(distv)\n",
        "  #distv[np.argsort(distv)]\n",
        "  #idv[np.argsort]\n",
        "  idv=idv[sortperm]\n",
        "  distv=distv[sortperm]\n",
        "  yrelv=yrelv[sortperm]\n",
        "  xrelv=xrelv[sortperm]\n",
        "  return({'idv':idv,'distv':distv,'xrelv':xrelv,'yrelv':yrelv})"
      ]
    },
    {
      "cell_type": "code",
      "source": [
        "# determine if x values need to be swapped or not\n",
        "# find player closest to ball\n",
        "# relx, rely, of ball to ball carrier\n",
        "# x,y,xspeed, yspeed, acceleration, of ball carrier\n",
        "# relx, rely, dist, xspeed, yspeed, acceleration, kicking_team_boolean, SORT BY DISTANCE TO BALL\n",
        "\n",
        "def GetFieldStateFeatures(plID,frID,ret_vids):\n",
        "  teamkick=play_d[plID][4]\n",
        "  homeACR=game_d[plID.split(\"-\")[0]][4]\n",
        "  awayACR=game_d[plID.split(\"-\")[0]][5]\n",
        "  if teamkick==homeACR:\n",
        "    homekick=True\n",
        "  else:\n",
        "    homekick=False\n",
        "  revx=False\n",
        "  if  ret_vids[plID]['1']['NA'][10].strip(\"\\\"\")=='right': # reverse x coordinates for all objects if playdirection==right\n",
        "    revx=True\n",
        "  gcpout=GetClosePlayers('NA',plID,frID,ret_vids,radius=1000)\n",
        "  bholder=gcpout['idv'][0]\n",
        "  bx=float(ret_vids[plID][frID]['NA'][0])\n",
        "  by=float(ret_vids[plID][frID]['NA'][1])\n",
        "  cx=float(ret_vids[plID][frID][bholder][0])\n",
        "  cy=float(ret_vids[plID][frID][bholder][1])\n",
        "  cs=float(ret_vids[plID][frID][bholder][2])\n",
        "  ca=float(ret_vids[plID][frID][bholder][3])\n",
        "  cdis=float(ret_vids[plID][frID][bholder][4])\n",
        "  co=float(ret_vids[plID][frID][bholder][5])\n",
        "  temp=os2xyspeed(co,cs)\n",
        "  cxspd=temp[0]\n",
        "  cyspd=temp[1]\n",
        "  if revx:\n",
        "    cxspd=-cxspd\n",
        "    bx=120-bx\n",
        "    cx=120-cx\n",
        "  x=[]\n",
        "  x+=[cx-bx,cy-by]\n",
        "  x+=[cx/120,cy/120,cxspd,cyspd,ca]\n",
        "  for i in range(len(gcpout['idv'])-1):\n",
        "    cID=gcpout['idv'][i+1]\n",
        "    cx=float(ret_vids[plID][frID][cID][0])\n",
        "    cy=float(ret_vids[plID][frID][cID][1])\n",
        "    cs=float(ret_vids[plID][frID][cID][2])\n",
        "    ca=float(ret_vids[plID][frID][cID][3])\n",
        "    cdis=float(ret_vids[plID][frID][cID][4])\n",
        "    co=float(ret_vids[plID][frID][cID][5])# relx, rely, dist, xspeed, yspeed, acceleration, kicking_team_boolean, SORT BY DISTANCE TO BALL\n",
        "    temp=os2xyspeed(co,cs)\n",
        "    cxspd=temp[0]\n",
        "    cyspd=temp[1]\n",
        "    if revx:\n",
        "      cxspd=-cxspd\n",
        "      cx=120-cx\n",
        "    cretind=0\n",
        "    if (homekick and ret_vids[plID][frID][cID][9].strip(\"\\\"\")==\"home\") or ((not homekick) and ret_vids[plID][frID][cID][9].strip(\"\\\"\")==\"away\"):\n",
        "      cretind=1\n",
        "    x+=[(cx-bx)/20,(cy-by)/20,gcpout['distv'][i+1]/13,cxspd,cyspd,ca,cretind]\n",
        "  return(x)\n",
        "  "
      ],
      "metadata": {
        "id": "IlEYJnr1Lhfp"
      },
      "execution_count": null,
      "outputs": []
    },
    {
      "cell_type": "code",
      "execution_count": null,
      "metadata": {
        "id": "RGgFCSxk4pG_"
      },
      "outputs": [],
      "source": [
        "x=[]\n",
        "y=[]\n",
        "for i in range(len(pIDs)):\n",
        "    plID=pIDs[i]\n",
        "    if play_d[plID][15]!='NA':\n",
        "        continue\n",
        "    for j in list(ret_vids[plID].keys()):\n",
        "        frID=j\n",
        "        if float(frID)<float(catchframe[plID]):\n",
        "            continue\n",
        "        y.append(torch.tensor(GetOutcomeVar(plID,frID,ret_vids)))\n",
        "        x.append(GetFieldStateFeatures(plID,frID,ret_vids))\n",
        "        y.append(torch.tensor(GetOutcomeVar(plID,frID,ret_vids2)))\n",
        "        x.append(GetFieldStateFeatures(plID,frID,ret_vids2))\n",
        "#        temp=GenRGBFromPlayFrame(plID,frID,dpi=30)\n",
        "#        x.append(temp.to_sparse())\n",
        "\n",
        "\n",
        "        \n"
      ]
    },
    {
      "cell_type": "code",
      "source": [
        "len(y)"
      ],
      "metadata": {
        "colab": {
          "base_uri": "https://localhost:8080/"
        },
        "id": "p_Yp48Doe6xl",
        "outputId": "036cb806-a95e-419f-d8b2-f21aba272dfb"
      },
      "execution_count": null,
      "outputs": [
        {
          "output_type": "execute_result",
          "data": {
            "text/plain": [
              "85550"
            ]
          },
          "metadata": {},
          "execution_count": 148
        }
      ]
    },
    {
      "cell_type": "code",
      "execution_count": null,
      "metadata": {
        "id": "lZlrPs9lYGqm"
      },
      "outputs": [],
      "source": [
        "xt = torch.tensor(x)\n",
        "yt = torch.tensor(y)\n",
        "trainset=torch.utils.data.TensorDataset(xt[:int(len(xt)*.9)],yt[:int(len(xt)*.9)])\n",
        "testset=torch.utils.data.TensorDataset(xt[int(len(xt)*.9):],yt[int(len(xt)*.9):])\n",
        "\n",
        "batch_size=64\n",
        "trainloader = torch.utils.data.DataLoader(trainset, batch_size=batch_size,shuffle=True, num_workers=0)\n",
        "testloader = torch.utils.data.DataLoader(testset, batch_size=batch_size,shuffle=True, num_workers=0)\n",
        "\n",
        "\n",
        "\n",
        "\n",
        "#in_d=pickle.load(open(\"vid3ch\"+YEAR+\".pickle\",'rb'))\n",
        "#xt=in_d['xt']\n",
        "#yt=in_d['yt']"
      ]
    },
    {
      "cell_type": "code",
      "execution_count": null,
      "metadata": {
        "id": "2ImN8-YQ5Dhn"
      },
      "outputs": [],
      "source": [
        "class Net(nn.Module):\n",
        "    def __init__(self):\n",
        "        super().__init__()\n",
        "        self.fc1 = nn.Linear(154, 200)\n",
        "        self.fc2 = nn.Linear(200,100)\n",
        "        self.fc3 = nn.Linear(100,20)\n",
        "        self.fc4 = nn.Linear(20, 1)\n",
        "\n",
        "    def forward(self, x):\n",
        "        x = F.relu(self.fc1(x))\n",
        "        x = F.relu(self.fc2(x))\n",
        "        x = F.relu(self.fc3(x))\n",
        "        x = self.fc4(x)#.squeeze()\n",
        "        return x\n",
        "    \n",
        "    \n",
        "\n",
        "net = Net()\n"
      ]
    },
    {
      "cell_type": "code",
      "execution_count": null,
      "metadata": {
        "colab": {
          "base_uri": "https://localhost:8080/"
        },
        "id": "zP-CdFba-dFc",
        "outputId": "8214d769-3ddf-4dab-c7a1-aad16502a718"
      },
      "outputs": [
        {
          "data": {
            "text/plain": [
              "<All keys matched successfully>"
            ]
          },
          "execution_count": 74,
          "metadata": {},
          "output_type": "execute_result"
        }
      ],
      "source": [
        "#modelpath=data_dir+\"/expretyardCNN.pt\"\n",
        "#net.load_state_dict(torch.load(modelpath))"
      ]
    },
    {
      "cell_type": "code",
      "execution_count": null,
      "metadata": {
        "colab": {
          "base_uri": "https://localhost:8080/"
        },
        "id": "co4g63dC5Jte",
        "outputId": "e02224f8-b948-4822-bab5-efce35d009a0"
      },
      "outputs": [
        {
          "output_type": "stream",
          "name": "stdout",
          "text": [
            "[1,  1000] loss: 216.675\n",
            "0.7142729466120298\n",
            "[2,  1000] loss: 95.502\n",
            "0.7297981418153273\n",
            "[3,  1000] loss: 87.224\n",
            "0.7474864820915064\n",
            "[4,  1000] loss: 83.108\n",
            "0.7630074809911911\n",
            "[5,  1000] loss: 79.432\n",
            "0.7759060184474604\n",
            "[6,  1000] loss: 77.215\n",
            "0.7854404384914736\n",
            "[7,  1000] loss: 74.940\n",
            "0.7914113635507115\n",
            "[8,  1000] loss: 72.717\n",
            "0.7958922673757396\n",
            "[9,  1000] loss: 72.099\n",
            "0.7986157829134582\n",
            "[10,  1000] loss: 71.264\n",
            "0.8003711401899959\n",
            "[11,  1000] loss: 69.800\n",
            "0.801152130688168\n",
            "[12,  1000] loss: 71.196\n",
            "0.8019188310764724\n",
            "[13,  1000] loss: 69.709\n",
            "0.8025603310349116\n",
            "[14,  1000] loss: 69.750\n",
            "0.8023191666545577\n",
            "[15,  1000] loss: 69.719\n",
            "0.8017175258488263\n",
            "[16,  1000] loss: 68.950\n",
            "0.8020959296016454\n",
            "[17,  1000] loss: 69.175\n",
            "0.8017282496216965\n",
            "[18,  1000] loss: 67.970\n",
            "0.8014919088512902\n",
            "[19,  1000] loss: 68.151\n",
            "0.8013941499685501\n",
            "[20,  1000] loss: 67.480\n",
            "0.8012355556794104\n",
            "[21,  1000] loss: 67.447\n",
            "0.8013451124792818\n",
            "[22,  1000] loss: 67.525\n",
            "0.8009516004199355\n",
            "[23,  1000] loss: 67.844\n",
            "0.8010235200546779\n",
            "[24,  1000] loss: 66.385\n",
            "0.8002789114790159\n",
            "[25,  1000] loss: 67.012\n",
            "0.8009643480155654\n",
            "[26,  1000] loss: 66.881\n",
            "0.8000368239737425\n",
            "[27,  1000] loss: 67.087\n",
            "0.800461162046643\n",
            "[28,  1000] loss: 66.577\n",
            "0.7998375681443427\n",
            "[29,  1000] loss: 65.446\n",
            "0.8005715948542782\n",
            "[30,  1000] loss: 64.485\n",
            "0.8000700602629329\n",
            "Finished Training\n"
          ]
        }
      ],
      "source": [
        "criterion = nn.MSELoss()\n",
        "optimizer = optim.Adam(net.parameters(), lr=0.00001)#, momentum=0.95)\n",
        "#optimizer = optim.SGD(net.parameters(), lr=0.001, momentum=0.95)\n",
        "testcor=[]\n",
        "traincor=[]\n",
        "for epoch in range(30):  # loop over the dataset multiple times\n",
        "    running_loss = 0.0\n",
        "    for i, data in enumerate(trainloader, 0):\n",
        "        # get the inputs; data is a list of [inputs, labels]\n",
        "        inputs, labels = data\n",
        "        inputs=inputs.float()\n",
        "        labels=labels.float()\n",
        "        # zero the parameter gradients\n",
        "        optimizer.zero_grad()\n",
        "        # forward + backward + optimize\n",
        "        outputs = net(inputs).squeeze()\n",
        "        loss = criterion(outputs, labels)\n",
        "        loss.backward()\n",
        "        optimizer.step()\n",
        "        # print statistics\n",
        "        running_loss += loss.item()\n",
        "        #print(i)\n",
        "        if i % 1000 == 999:    # print every 2000 mini-batches\n",
        "            print('[%d, %5d] loss: %.3f' %\n",
        "                  (epoch + 1, i + 1, running_loss / 1000))\n",
        "            running_loss = 0.0\n",
        "#    curtraincor=tensorcorr(trainloader,net)\n",
        "#    curtestcor=tensorcorr(testloader,net)\n",
        "#    print(\"testcor: \", curtestcor, \"; traincor: \",curtraincor)\n",
        "#    traincor.append(curtraincor)\n",
        "#    testcor.append(curtestcor)\n",
        "#    torch.save(net.state_dict(), modelpath)\n",
        "#    print(testerrv(net,trainloader))\n",
        "    testerr=testerrv(net,testloader)\n",
        "    print(testerr)\n",
        "    #torch.save(net.state_dict(),data_dir+\"/retyardFFNN_\"+str(epoch)+\".pt\")\n",
        "print('Finished Training') #4.8 loss\n"
      ]
    },
    {
      "cell_type": "code",
      "source": [
        "def testerrv(net,testloader):\n",
        "  outerr=[]\n",
        "  testout=np.array([])\n",
        "  trainout=np.array([])\n",
        "  with torch.no_grad():\n",
        "        for data in testloader:\n",
        "            images, labels = data\n",
        "            # calculate outputs by running images through the network\n",
        "            images=images.float()\n",
        "            labels=labels.float()\n",
        "            outputs = net(images).squeeze()\n",
        "            # the class with the highest energy is what we choose as prediction\n",
        "            #print(outputs,labels)\n",
        "            runtot=0\n",
        "            denom=float(labels.shape[0])\n",
        "            for i in range(int(denom)):\n",
        "              runtot+=abs(labels[i]-outputs[i])/denom\n",
        "            outerr.append(float(runtot))\n",
        "            testout=np.append(testout,torch.Tensor.numpy(outputs))\n",
        "            trainout=np.append(trainout,torch.Tensor.numpy(labels))\n",
        "  return(np.corrcoef(testout,trainout)[0,1])\n",
        "#return(sum(outerr)/len(outerr))"
      ],
      "metadata": {
        "id": "btfEHAzpabXX"
      },
      "execution_count": null,
      "outputs": []
    },
    {
      "cell_type": "code",
      "source": [
        "testout=np.array([1])\n",
        "testout=np.append(testout,np.array([1,2,3]))\n",
        "testout"
      ],
      "metadata": {
        "colab": {
          "base_uri": "https://localhost:8080/"
        },
        "id": "VrihZzUBeSE7",
        "outputId": "24cc0786-8001-4fdc-e740-fc1c4658afb5"
      },
      "execution_count": null,
      "outputs": [
        {
          "output_type": "execute_result",
          "data": {
            "text/plain": [
              "array([1, 1, 2, 3])"
            ]
          },
          "metadata": {},
          "execution_count": 153
        }
      ]
    },
    {
      "cell_type": "code",
      "source": [
        "print(labels)\n",
        "print(outputs)\n",
        "\n",
        "\n"
      ],
      "metadata": {
        "colab": {
          "base_uri": "https://localhost:8080/"
        },
        "id": "lcHh5EaYa9KS",
        "outputId": "eb5bd504-e7ad-4058-bd32-430a7d3a5de8"
      },
      "execution_count": null,
      "outputs": [
        {
          "output_type": "stream",
          "name": "stdout",
          "text": [
            "tensor([ 5.4000e-01,  0.0000e+00,  3.7800e+00, -2.5400e+00,  4.1860e+01,\n",
            "         9.9700e+00,  1.8650e+01,  6.2000e-01,  0.0000e+00,  2.2970e+01,\n",
            "         0.0000e+00,  4.5100e+01, -3.0000e-02,  3.9000e+00,  1.5970e+01,\n",
            "         1.5740e+01,  1.0010e+01,  2.0000e-02,  2.6000e-01,  2.4170e+01,\n",
            "         6.7800e+00,  1.9650e+01,  1.0640e+01,  2.1570e+01,  7.0000e-02,\n",
            "        -5.4000e-01, -1.0000e-02,  9.2500e+00,  2.1930e+01,  2.4810e+01,\n",
            "         6.0000e-02,  1.6100e+00,  1.8150e+01,  2.1600e+01,  3.7400e+01,\n",
            "         1.2170e+01,  2.3310e+01,  3.5600e+00,  6.2500e+00,  1.6830e+01,\n",
            "         1.2300e+00,  5.2500e+00,  6.5000e-01])\n",
            "tensor([ 1.9336, -1.4558,  1.0436, -2.2306, 21.0048, 12.9656, 15.8990, -0.5845,\n",
            "         0.0492, 24.1577,  1.9121, 24.8923,  0.5963,  2.2941, 23.6604, 13.8248,\n",
            "        17.0922, -0.7219,  3.4843, 23.2827,  5.6545, 20.5369, 12.2276, 24.2661,\n",
            "        -0.8533,  2.4294,  0.3244, 11.6152, 21.1209, 25.6489, -0.8077, -0.9449,\n",
            "        12.4514, 15.6657, 18.5422, 17.7215, 20.6496,  3.6940, 11.7953, 14.2034,\n",
            "         0.0407,  7.9493,  2.4183])\n"
          ]
        }
      ]
    }
  ],
  "metadata": {
    "accelerator": "GPU",
    "colab": {
      "collapsed_sections": [],
      "machine_shape": "hm",
      "name": "retyardFFNN.ipynb",
      "provenance": [],
      "authorship_tag": "ABX9TyM67R7Kw2Qnu+5gQdNlDfbD",
      "include_colab_link": true
    },
    "kernelspec": {
      "display_name": "Python 3",
      "name": "python3"
    },
    "language_info": {
      "name": "python"
    }
  },
  "nbformat": 4,
  "nbformat_minor": 0
}