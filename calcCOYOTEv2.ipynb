{
  "cells": [
    {
      "cell_type": "markdown",
      "metadata": {
        "id": "view-in-github",
        "colab_type": "text"
      },
      "source": [
        "<a href=\"https://colab.research.google.com/github/ianjamesbarnett/2022NFLBigDataBowl/blob/main/calcCOYOTEv2.ipynb\" target=\"_parent\"><img src=\"https://colab.research.google.com/assets/colab-badge.svg\" alt=\"Open In Colab\"/></a>"
      ]
    },
    {
      "cell_type": "code",
      "execution_count": null,
      "metadata": {
        "id": "YbG9we27uU7F"
      },
      "outputs": [],
      "source": [
        "import math\n",
        "import numpy as np\n",
        "import matplotlib.pyplot as plt\n",
        "import os\n",
        "import torch\n",
        "import io\n",
        "import torchvision as tv \n",
        "from PIL import Image\n",
        "import torch.nn as nn\n",
        "import torch.nn.functional as F\n",
        "import torch.optim as optim\n",
        "import pickle\n",
        "import gc\n"
      ]
    },
    {
      "cell_type": "code",
      "execution_count": null,
      "metadata": {
        "colab": {
          "base_uri": "https://localhost:8080/"
        },
        "id": "WdI8CQlGubs6",
        "outputId": "92855089-ad37-4a29-c801-2d05392afcee"
      },
      "outputs": [
        {
          "output_type": "stream",
          "name": "stdout",
          "text": [
            "Drive already mounted at /content/drive; to attempt to forcibly remount, call drive.mount(\"/content/drive\", force_remount=True).\n"
          ]
        }
      ],
      "source": [
        "from google.colab import drive\n",
        "drive.mount('/content/drive')\n"
      ]
    },
    {
      "cell_type": "code",
      "execution_count": null,
      "metadata": {
        "id": "kjXNO0yTuepT"
      },
      "outputs": [],
      "source": [
        "data_dir = \"/content/drive/MyDrive/NFLBigDataBowl2022\"\n",
        "os.chdir(data_dir)\n",
        "\n",
        "#YEAR=\"2018\";maxplays=756\n",
        "#YEAR=\"2019\";maxplays=749\n",
        "YEAR=\"2020\";maxplays=855\n",
        "\n",
        "\n",
        "filein=open(data_dir+\"/tracking\"+YEAR+\".csv\",'r')\n",
        "line=filein.readline()\n",
        "\n",
        "filein2=open(data_dir+\"/games.csv\",'r')\n",
        "filein2.readline()\n",
        "game_d={}\n",
        "for line in filein2:\n",
        "    line_v=[x.strip('\\\"') for x in line.strip(\"\\n\").split(\",\")]\n",
        "    game_d[line_v[0]]=line_v[1:]\n",
        "\n",
        "filein3=open(data_dir+\"/plays.csv\",'r')\n",
        "filein3.readline()\n",
        "play_d={}\n",
        "for line in filein3:\n",
        "    line_v=[x.strip('\\\"') for x in line.strip(\"\\n\").split(\",\")]\n",
        "    play_d[line_v[0]+\"-\"+line_v[1]]=line_v[2:]"
      ]
    },
    {
      "cell_type": "code",
      "source": [
        "filein4=open(data_dir+\"/players.csv\",'r') #nflID, height, weight, birthdate, college, position, displayname, \n",
        "filein4.readline()\n",
        "players_info_d={}\n",
        "for line in filein4:\n",
        "    line_v=[x.strip('\\\"') for x in line.strip(\"\\n\").split(\",\")]\n",
        "    players_info_d[line_v[0]]=line_v[1:]\n",
        "filein4.close()"
      ],
      "metadata": {
        "id": "1ke5HppHV4Ql"
      },
      "execution_count": null,
      "outputs": []
    },
    {
      "cell_type": "code",
      "source": [
        ""
      ],
      "metadata": {
        "colab": {
          "base_uri": "https://localhost:8080/"
        },
        "id": "9XqDoXZbWX-P",
        "outputId": "0f1b450d-da1a-45e8-ac82-6e105f436c91"
      },
      "execution_count": null,
      "outputs": [
        {
          "output_type": "execute_result",
          "data": {
            "text/plain": [
              "['6-6', '263', '1982-05-06', 'Tennessee', 'TE', 'Jason Witten']"
            ]
          },
          "metadata": {},
          "execution_count": 121
        }
      ]
    },
    {
      "cell_type": "code",
      "execution_count": null,
      "metadata": {
        "id": "PSq9UZb81SAa"
      },
      "outputs": [],
      "source": [
        "# get IDs of all plays to turn into videos (returned punts and kicks)\n",
        "catchframe = {}\n",
        "pID_s=set()\n",
        "filein.seek(0)\n",
        "for line in filein:\n",
        "    line_v=line.split(\",\")\n",
        "    if line_v[8].strip(\"\\\"\")==\"punt_received\" or line_v[8].strip(\"\\\"\")==\"kick_received\":\n",
        "        gpID = line_v[15]+\"-\"+line_v[16]\n",
        "        if play_d[gpID][6]==\"Return\":\n",
        "            pID_s.add(gpID)\n",
        "            catchframe[gpID]=line_v[14]\n",
        "\n",
        "#x,y,s,a,dis,o,dir,jersey,pos,team,playdirectino\n",
        "ret_vids = pickle.load(open(\"retvids1_final_\"+YEAR+\".pickle\",'rb'))# 3 layers of dictionaries: playID, frameID, playerID\n",
        "ret_vids2=pickle.load(open(\"retvids2_final_\"+YEAR+\".pickle\",'rb'))\n",
        "pIDs=list(ret_vids.keys())"
      ]
    },
    {
      "cell_type": "code",
      "source": [
        "class Net(nn.Module):\n",
        "    def __init__(self):\n",
        "        super().__init__()\n",
        "        self.fc1 = nn.Linear(154, 200)\n",
        "        self.fc2 = nn.Linear(200,100)\n",
        "        self.fc3 = nn.Linear(100,20)\n",
        "        self.fc4 = nn.Linear(20, 1)\n",
        "\n",
        "    def forward(self, x):\n",
        "        x = F.relu(self.fc1(x))\n",
        "        x = F.relu(self.fc2(x))\n",
        "        x = F.relu(self.fc3(x))\n",
        "        x = self.fc4(x)#.squeeze()\n",
        "        return x\n",
        "    \n",
        "    \n",
        "\n",
        "net = Net()\n",
        "modelpath=data_dir+\"/retyardFFNN_16.pt\"\n",
        "net.load_state_dict(torch.load(modelpath))"
      ],
      "metadata": {
        "colab": {
          "base_uri": "https://localhost:8080/"
        },
        "id": "Vpf_p0aAB_rm",
        "outputId": "7803e6fa-7b1b-4574-b8de-654efd8f47cf"
      },
      "execution_count": null,
      "outputs": [
        {
          "output_type": "execute_result",
          "data": {
            "text/plain": [
              "<All keys matched successfully>"
            ]
          },
          "metadata": {},
          "execution_count": 37
        }
      ]
    },
    {
      "cell_type": "code",
      "source": [
        "def PlotFieldPosition(temp):\n",
        "    plotdata = {'x':[],'y':[],'s':[],'a':[],'o':[],'dir':[],'jerseyNumber':[],'position':[],'team':[],'color':[]}\n",
        "    for key in temp:\n",
        "        plotdata['x'].append(float(temp[key][0]))\n",
        "        plotdata['y'].append(float(temp[key][1]))\n",
        "        plotdata['s'].append(float(temp[key][2]))\n",
        "        plotdata['a'].append(float(temp[key][3]))\n",
        "        plotdata['o'].append(temp[key][5])\n",
        "        plotdata['dir'].append(temp[key][6])\n",
        "        plotdata['jerseyNumber'].append(temp[key][7])\n",
        "        plotdata['position'].append(temp[key][8])\n",
        "        plotdata['team'].append(temp[key][9])\n",
        "        if temp[key][9].strip(\"\\\"\")==\"football\":\n",
        "            plotdata['color'].append(0)    \n",
        "        elif temp[key][9].strip(\"\\\"\")==\"away\":\n",
        "            plotdata['color'].append(1)    \n",
        "        else:\n",
        "            plotdata['color'].append(2)    \n",
        "    plt.scatter('y','x',c='color',data=plotdata)\n",
        "    plt.show()\n",
        "\n",
        "def os2xyspeed(o,s):\n",
        "  if o<90:\n",
        "    ot=o*2*np.pi/360\n",
        "    x=s*np.sin(ot)\n",
        "    y=s*np.cos(ot)\n",
        "  elif o<180:\n",
        "    ot=(180-o)*2*np.pi/360\n",
        "    x=s*np.sin(ot)\n",
        "    y=-s*np.cos(ot)\n",
        "  elif o<180:\n",
        "    ot=(o-180)*2*np.pi/360\n",
        "    x=-s*np.sin(ot)\n",
        "    y=-s*np.cos(ot)\n",
        "  else:\n",
        "    ot=(360-o)*2*np.pi/360\n",
        "    x=-s*np.sin(ot)\n",
        "    y=s*np.cos(ot)\n",
        "  return([x,y])\n",
        "\n",
        "def GetClosePlayersSkinny(player,cret_vids,exclude_ball=True,radius=250):\n",
        "  curd=cret_vids\n",
        "  ofIDs=list(curd.keys())\n",
        "  cx0=float(curd[player][0])\n",
        "  cy0=float(curd[player][1])\n",
        "  distv=[]\n",
        "  xrelv=[]\n",
        "  yrelv=[]\n",
        "  idv=[]\n",
        "  for id in ofIDs:\n",
        "    if exclude_ball and id=='NA':\n",
        "      continue\n",
        "    xrel=float(curd[id][0])-cx0\n",
        "    yrel=float(curd[id][1])-cy0\n",
        "    curdist=np.sqrt(xrel**2+yrel**2)\n",
        "    if curdist>radius:\n",
        "      continue\n",
        "    distv.append(curdist)\n",
        "    idv.append(id)\n",
        "    xrelv.append(xrel)\n",
        "    yrelv.append(yrel)\n",
        "  distv=np.array(distv)\n",
        "  yrelv=np.array(yrelv)\n",
        "  xrelv=np.array(xrelv)\n",
        "  idv=np.array(idv)\n",
        "  sortperm=np.argsort(distv)\n",
        "  #distv[np.argsort(distv)]\n",
        "  #idv[np.argsort]\n",
        "  idv=idv[sortperm]\n",
        "  distv=distv[sortperm]\n",
        "  yrelv=yrelv[sortperm]\n",
        "  xrelv=xrelv[sortperm]\n",
        "  return({'idv':idv,'distv':distv,'xrelv':xrelv,'yrelv':yrelv})\n",
        "\n",
        "def GetClosePlayers(player,plID,frID,ret_vids,radius=250):\n",
        "  curd=ret_vids[plID][frID]\n",
        "  ofIDs=list(curd.keys())\n",
        "  cx0=float(curd[player][0])\n",
        "  cy0=float(curd[player][1])\n",
        "  distv=[]\n",
        "  xrelv=[]\n",
        "  yrelv=[]\n",
        "  idv=[]\n",
        "  for id in ofIDs:\n",
        "    if id=='NA':\n",
        "      continue\n",
        "    xrel=float(curd[id][0])-cx0\n",
        "    yrel=float(curd[id][1])-cy0\n",
        "    curdist=np.sqrt(xrel**2+yrel**2)\n",
        "    if curdist>radius:\n",
        "      continue\n",
        "    distv.append(curdist)\n",
        "    idv.append(id)\n",
        "    xrelv.append(xrel)\n",
        "    yrelv.append(yrel)\n",
        "  distv=np.array(distv)\n",
        "  yrelv=np.array(yrelv)\n",
        "  xrelv=np.array(xrelv)\n",
        "  idv=np.array(idv)\n",
        "  sortperm=np.argsort(distv)\n",
        "  #distv[np.argsort(distv)]\n",
        "  #idv[np.argsort]\n",
        "  idv=idv[sortperm]\n",
        "  distv=distv[sortperm]\n",
        "  yrelv=yrelv[sortperm]\n",
        "  xrelv=xrelv[sortperm]\n",
        "  return({'idv':idv,'distv':distv,'xrelv':xrelv,'yrelv':yrelv})\n",
        "\n",
        "def GetFieldStateFeatures_Adjusted(plID,frID,ret_vids,ret_vids2,player,radius=5):\n",
        "  teamkick=play_d[plID][4]\n",
        "  homeACR=game_d[plID.split(\"-\")[0]][4]\n",
        "  awayACR=game_d[plID.split(\"-\")[0]][5]\n",
        "  if teamkick==homeACR:\n",
        "    homekick=True\n",
        "  else:\n",
        "    homekick=False\n",
        "  revx=False\n",
        "  if  ret_vids[plID]['1']['NA'][10].strip(\"\\\"\")=='right': # reverse x coordinates for all objects if playdirection==right\n",
        "    revx=True\n",
        "  # modify ret_vids to use ret_vids2 when within radius of player (including ball)\n",
        "  curret_vids=ret_vids[plID][frID]\n",
        "  modret_vids=curret_vids.copy()\n",
        "  gcpout=GetClosePlayersSkinny(player,modret_vids,False,radius=radius)\n",
        "  for i in range(len(gcpout['idv'])):\n",
        "    cID=gcpout['idv'][i]\n",
        "    modret_vids[cID]=ret_vids2[plID][frID][cID]\n",
        "  # now resume with modret_vids\n",
        "  gcpout=GetClosePlayersSkinny('NA',modret_vids,True,radius=1000)\n",
        "  bholder=gcpout['idv'][0]\n",
        "  bx=float(modret_vids['NA'][0])\n",
        "  by=float(modret_vids['NA'][1])\n",
        "  cx=float(modret_vids[bholder][0])\n",
        "  cy=float(modret_vids[bholder][1])\n",
        "  cs=float(modret_vids[bholder][2])\n",
        "  ca=float(modret_vids[bholder][3])\n",
        "  cdis=float(modret_vids[bholder][4])\n",
        "  co=float(modret_vids[bholder][5])\n",
        "  temp=os2xyspeed(co,cs)\n",
        "  cxspd=temp[0]\n",
        "  cyspd=temp[1]\n",
        "  if revx:\n",
        "    cxspd=-cxspd\n",
        "    bx=120-bx\n",
        "    cx=120-cx\n",
        "  x=[]\n",
        "  x+=[cx-bx,cy-by]\n",
        "  x+=[cx/120,cy/120,cxspd,cyspd,ca]\n",
        "  for i in range(len(gcpout['idv'])-1):\n",
        "    cID=gcpout['idv'][i+1]\n",
        "    cx=float(modret_vids[cID][0])\n",
        "    cy=float(modret_vids[cID][1])\n",
        "    cs=float(modret_vids[cID][2])\n",
        "    ca=float(modret_vids[cID][3])\n",
        "    cdis=float(modret_vids[cID][4])\n",
        "    co=float(modret_vids[cID][5])# relx, rely, dist, xspeed, yspeed, acceleration, kicking_team_boolean, SORT BY DISTANCE TO BALL\n",
        "    temp=os2xyspeed(co,cs)\n",
        "    cxspd=temp[0]\n",
        "    cyspd=temp[1]\n",
        "    if revx:\n",
        "      cxspd=-cxspd\n",
        "      cx=120-cx\n",
        "    cretind=0\n",
        "    if (homekick and modret_vids[cID][9].strip(\"\\\"\")==\"home\") or ((not homekick) and modret_vids[cID][9].strip(\"\\\"\")==\"away\"):\n",
        "      cretind=1\n",
        "    x+=[(cx-bx)/20,(cy-by)/20,gcpout['distv'][i+1]/13,cxspd,cyspd,ca,cretind]\n",
        "  return(x)\n",
        "  \n",
        "def GetFieldStateFeatures(plID,frID,ret_vids):\n",
        "  teamkick=play_d[plID][4]\n",
        "  homeACR=game_d[plID.split(\"-\")[0]][4]\n",
        "  awayACR=game_d[plID.split(\"-\")[0]][5]\n",
        "  if teamkick==homeACR:\n",
        "    homekick=True\n",
        "  else:\n",
        "    homekick=False\n",
        "  revx=False\n",
        "  if  ret_vids[plID]['1']['NA'][10].strip(\"\\\"\")=='right': # reverse x coordinates for all objects if playdirection==right\n",
        "    revx=True\n",
        "  gcpout=GetClosePlayers('NA',plID,frID,ret_vids,radius=1000)\n",
        "  bholder=gcpout['idv'][0]\n",
        "  bx=float(ret_vids[plID][frID]['NA'][0])\n",
        "  by=float(ret_vids[plID][frID]['NA'][1])\n",
        "  cx=float(ret_vids[plID][frID][bholder][0])\n",
        "  cy=float(ret_vids[plID][frID][bholder][1])\n",
        "  cs=float(ret_vids[plID][frID][bholder][2])\n",
        "  ca=float(ret_vids[plID][frID][bholder][3])\n",
        "  cdis=float(ret_vids[plID][frID][bholder][4])\n",
        "  co=float(ret_vids[plID][frID][bholder][5])\n",
        "  temp=os2xyspeed(co,cs)\n",
        "  cxspd=temp[0]\n",
        "  cyspd=temp[1]\n",
        "  if revx:\n",
        "    cxspd=-cxspd\n",
        "    bx=120-bx\n",
        "    cx=120-cx\n",
        "  x=[]\n",
        "  x+=[cx-bx,cy-by]\n",
        "  x+=[cx/120,cy/120,cxspd,cyspd,ca]\n",
        "  for i in range(len(gcpout['idv'])-1):\n",
        "    cID=gcpout['idv'][i+1]\n",
        "    cx=float(ret_vids[plID][frID][cID][0])\n",
        "    cy=float(ret_vids[plID][frID][cID][1])\n",
        "    cs=float(ret_vids[plID][frID][cID][2])\n",
        "    ca=float(ret_vids[plID][frID][cID][3])\n",
        "    cdis=float(ret_vids[plID][frID][cID][4])\n",
        "    co=float(ret_vids[plID][frID][cID][5])# relx, rely, dist, xspeed, yspeed, acceleration, kicking_team_boolean, SORT BY DISTANCE TO BALL\n",
        "    temp=os2xyspeed(co,cs)\n",
        "    cxspd=temp[0]\n",
        "    cyspd=temp[1]\n",
        "    if revx:\n",
        "      cxspd=-cxspd\n",
        "      cx=120-cx\n",
        "    cretind=0\n",
        "    if (homekick and ret_vids[plID][frID][cID][9].strip(\"\\\"\")==\"home\") or ((not homekick) and ret_vids[plID][frID][cID][9].strip(\"\\\"\")==\"away\"):\n",
        "      cretind=1\n",
        "    x+=[(cx-bx)/20,(cy-by)/20,gcpout['distv'][i+1]/13,cxspd,cyspd,ca,cretind]\n",
        "  return(x)\n",
        "\n",
        "def Get_COYOTE(x1,x2,net,on_kicking_team):\n",
        "  COYOTE_VAL=float(net(torch.tensor(x1).float()))-float(net(torch.tensor(x2).float()))\n",
        "  if on_kicking_team:\n",
        "    return(-COYOTE_VAL)\n",
        "  else:\n",
        "    return(COYOTE_VAL)\n"
      ],
      "metadata": {
        "id": "32MsDgwkwPpS"
      },
      "execution_count": null,
      "outputs": []
    },
    {
      "cell_type": "code",
      "source": [
        "print(float(net(torch.tensor(x1).float())))\n",
        "print(float(net(torch.tensor(x2).float())))"
      ],
      "metadata": {
        "colab": {
          "base_uri": "https://localhost:8080/"
        },
        "id": "5-c1itfgDXF_",
        "outputId": "d801bcb1-26fb-43db-e565-8cce9d57188c"
      },
      "execution_count": null,
      "outputs": [
        {
          "output_type": "stream",
          "name": "stdout",
          "text": [
            "-0.33374518156051636\n",
            "-0.3463197946548462\n"
          ]
        }
      ]
    },
    {
      "cell_type": "markdown",
      "metadata": {
        "id": "fvAIleS_vkE3"
      },
      "source": [
        "Let's calculate COYOTE/ret for a given player."
      ]
    },
    {
      "cell_type": "code",
      "execution_count": null,
      "metadata": {
        "id": "xMXCdRP-vjsZ"
      },
      "outputs": [],
      "source": [
        "# loop over all of the plays for a given player\n",
        "# loop over all frames within each play\n",
        "# find the bounding box around the player for each .1 second frame\n",
        "# construct the conditional image by swapping in the bounding box from the expected frame\n",
        "# subtract CNN fit for each case. If on defense, negate the value.\n",
        "# sum over all frames/plays and divide by the number of plays to get COYOTE/ret\n"
      ]
    },
    {
      "cell_type": "code",
      "execution_count": null,
      "metadata": {
        "id": "vQ630Oz_2I9d"
      },
      "outputs": [],
      "source": [
        "# create the details array, which contains info about each frame including players, teams, etc...\n",
        "# importantly, the indices of details match the indices of the image arrays (indat) exactly\n",
        "details=[]\n",
        "for i in range(len(pIDs)):\n",
        "    plID=pIDs[i]\n",
        "    teamkick=play_d[plID][4]\n",
        "    homeACR=game_d[plID.split(\"-\")[0]][4]\n",
        "    awayACR=game_d[plID.split(\"-\")[0]][5]\n",
        "    if play_d[plID][15]!='NA':\n",
        "        continue\n",
        "    for j in list(ret_vids[plID].keys()):\n",
        "        frameID=j\n",
        "        if float(frameID)<float(catchframe[plID]):\n",
        "            continue\n",
        "        gameID=plID.split(\"-\")[0]\n",
        "        playID=plID.split(\"-\")[1]\n",
        "        teamkick=play_d[plID][4]\n",
        "        playdirection=ret_vids[plID][frameID]['NA'][10].strip(\"\\\"\")\n",
        "        temp=[]\n",
        "        playerd={}\n",
        "        playerset=set(list(ret_vids[plID][frameID].keys()))\n",
        "        playerset.remove('NA')\n",
        "        for player in list(playerset):\n",
        "          position=ret_vids[plID][frameID][player][8].strip(\"\\\"\")\n",
        "          jersey=ret_vids[plID][frameID][player][7]\n",
        "          teamacr=ret_vids[plID][frameID][player][9].strip(\"\\\"\")\n",
        "          curx=float(ret_vids[plID][frameID][player][0])\n",
        "          cury=float(ret_vids[plID][frameID][player][1])\n",
        "          playerd[player]={'pos':position,'jersey':jersey,'teamacr':teamacr,'x':curx,'y':cury}\n",
        "        temp=[gameID,playID,frameID,teamkick,playdirection,playerd]\n",
        "        details.append(temp)\n",
        "        # this should be a frame in indat and indat2\n",
        "        # gameID, playID, frameID, teamkick, playdirection, dictionary of players in the play (key=playerID, values={position, jersey, teamacr, x, y})\n",
        "\n"
      ]
    },
    {
      "cell_type": "code",
      "execution_count": null,
      "metadata": {
        "id": "OjgeuUhqORuk"
      },
      "outputs": [],
      "source": [
        "## keep track of how many plays each player has participated in\n",
        "playerd={}\n",
        "seenplay=set()\n",
        "for i in range(len(details)):\n",
        "  if details[i][0]+\"-\"+details[i][1] in seenplay:\n",
        "    continue\n",
        "  seenplay.add(details[i][0]+\"-\"+details[i][1])\n",
        "  curplayers=list(details[i][5].keys())\n",
        "  for player in curplayers:\n",
        "    if player not in playerd:\n",
        "      playerd[player]=1\n",
        "    else:\n",
        "      playerd[player]+=1\n",
        "\n"
      ]
    },
    {
      "cell_type": "code",
      "execution_count": null,
      "metadata": {
        "colab": {
          "base_uri": "https://localhost:8080/",
          "height": 508
        },
        "id": "6z68mNRfQSkn",
        "outputId": "aaf3d2a5-c06a-4a30-a304-26b180e2d36d"
      },
      "outputs": [
        {
          "output_type": "execute_result",
          "data": {
            "text/plain": [
              "(array([0.08421384, 0.0474966 , 0.02762214, 0.02357987, 0.01414792,\n",
              "        0.01717962, 0.01953761, 0.0188639 , 0.00842138, 0.01448478,\n",
              "        0.0158322 , 0.01246365, 0.0097688 , 0.00673711, 0.00875824,\n",
              "        0.00505283, 0.00673711, 0.00235799, 0.00370541, 0.0030317 ,\n",
              "        0.00202113, 0.00101057, 0.00168428, 0.00235799, 0.00101057,\n",
              "        0.00067371, 0.00101057, 0.00033686, 0.00033686, 0.00101057]),\n",
              " array([ 1.        ,  3.76666667,  6.53333333,  9.3       , 12.06666667,\n",
              "        14.83333333, 17.6       , 20.36666667, 23.13333333, 25.9       ,\n",
              "        28.66666667, 31.43333333, 34.2       , 36.96666667, 39.73333333,\n",
              "        42.5       , 45.26666667, 48.03333333, 50.8       , 53.56666667,\n",
              "        56.33333333, 59.1       , 61.86666667, 64.63333333, 67.4       ,\n",
              "        70.16666667, 72.93333333, 75.7       , 78.46666667, 81.23333333,\n",
              "        84.        ]),\n",
              " <a list of 30 Patch objects>)"
            ]
          },
          "metadata": {},
          "execution_count": 81
        },
        {
          "output_type": "display_data",
          "data": {
            "image/png": "[encoded data removed]",
            "text/plain": [
              "<Figure size 432x288 with 1 Axes>"
            ]
          },
          "metadata": {
            "needs_background": "light"
          }
        }
      ],
      "source": [
        "# prune out players with too few plays (<minplays)\n",
        "minplays=10\n",
        "playerskeep=set()\n",
        "numplays=[]\n",
        "for ele in playerd:\n",
        "  if playerd[ele]>=minplays:\n",
        "    playerskeep.add(ele)\n",
        "  numplays.append(playerd[ele])\n",
        "\n",
        "plt.hist(numplays, density=True, bins=30)  #"
      ]
    },
    {
      "cell_type": "code",
      "source": [
        "len(COYOTEd)"
      ],
      "metadata": {
        "colab": {
          "base_uri": "https://localhost:8080/"
        },
        "id": "1CbaqCEA-fcq",
        "outputId": "628f8751-59b5-4079-f99b-aeb3dd409acc"
      },
      "execution_count": null,
      "outputs": [
        {
          "output_type": "execute_result",
          "data": {
            "text/plain": [
              "600"
            ]
          },
          "metadata": {},
          "execution_count": 84
        }
      ]
    },
    {
      "cell_type": "code",
      "source": [
        "frID='70'\n",
        "net(torch.tensor(GetFieldStateFeatures(plID,frID,ret_vids)).float())\n"
      ],
      "metadata": {
        "colab": {
          "base_uri": "https://localhost:8080/"
        },
        "id": "gM2Sm-i9ZGDX",
        "outputId": "3c35b1ef-9550-4293-c2f2-60357e109274"
      },
      "execution_count": null,
      "outputs": [
        {
          "output_type": "execute_result",
          "data": {
            "text/plain": [
              "tensor([-0.5244], grad_fn=<AddBackward0>)"
            ]
          },
          "metadata": {},
          "execution_count": 154
        }
      ]
    },
    {
      "cell_type": "code",
      "source": [
        "x2_mat=np.array(x2_mat)\n",
        "x1_mat=np.array(x1_mat)\n",
        "dif=[]\n",
        "for i in range(len(x2_mat)):\n",
        "  dif.append(list(np.abs(x2_mat[i]-x1_mat[i])))\n",
        "dif=np.array(dif)\n",
        "\n",
        "uppercut=[]\n",
        "for i in range(dif.shape[1]):\n",
        "  uppercut.append(np.mean(dif[:,i])+4*np.std(dif[:,i]))"
      ],
      "metadata": {
        "id": "Uc3WYuDYrvWz"
      },
      "execution_count": null,
      "outputs": []
    },
    {
      "cell_type": "code",
      "source": [
        "np.min(np.array(uppercut)-np.abs(np.array(x1)-np.array(x2)))\n"
      ],
      "metadata": {
        "colab": {
          "base_uri": "https://localhost:8080/"
        },
        "id": "TiEFBT90uaOA",
        "outputId": "936719ec-1303-43ab-9bc8-b5f56ed2be74"
      },
      "execution_count": null,
      "outputs": [
        {
          "output_type": "execute_result",
          "data": {
            "text/plain": [
              "-10.149189379967286"
            ]
          },
          "metadata": {},
          "execution_count": 283
        }
      ]
    },
    {
      "cell_type": "code",
      "source": [
        "COYOTEd = {} # COYOTEd[playerID][playID][frame] ==> COYOTE, ballholder_ind\n",
        "detailsd = {} # detailsd[playerID][playID] ==> ballholder_ind, kicking_team_ind, playerteam, oppteam, position, jersey, teamacr, playdirection\n",
        "#x1_mat=[] # toggle on for uppercut\n",
        "#x2_mat=[]# toggle on for uppercut\n",
        "for i in range(len(pIDs)):\n",
        "    print(i,\"of\",len(pIDs)-1)\n",
        "    plID=pIDs[i]\n",
        "    teamkick=play_d[plID][4]\n",
        "    homeACR=game_d[plID.split(\"-\")[0]][4]\n",
        "    awayACR=game_d[plID.split(\"-\")[0]][5]\n",
        "    if play_d[plID][15]!='NA':\n",
        "        continue\n",
        "    gameID=plID.split(\"-\")[0]\n",
        "    playID=plID.split(\"-\")[1]\n",
        "    playdirection=ret_vids[plID]['1']['NA'][10].strip(\"\\\"\")\n",
        "    playerd={}\n",
        "    playerset=set(list(ret_vids[plID]['1'].keys()))\n",
        "    playerset.remove('NA')\n",
        "    players=list(playerset)\n",
        "    playdirection=ret_vids[plID]['1']['NA'][10].strip(\"\\\"\")\n",
        "    for player in players:\n",
        "      if player not in playerskeep:\n",
        "        continue\n",
        "      if player not in detailsd:\n",
        "        detailsd[player]={}\n",
        "      position=ret_vids[plID]['1'][player][8].strip(\"\\\"\")\n",
        "      jersey=ret_vids[plID]['1'][player][7]\n",
        "      homeoraway=ret_vids[plID]['1'][player][9].strip(\"\\\"\") # check this... is this teamacr or\"home\" \"away\"\n",
        "      if homeoraway=='home':\n",
        "        teamacr=homeACR\n",
        "      else:\n",
        "        teamacr=awayACR\n",
        "      on_kicking_team=False\n",
        "      if teamacr==teamkick:\n",
        "        on_kicking_team=True\n",
        "      detailsd[player][plID]=[on_kicking_team,teamacr,position,jersey,playdirection]# detailsd[player][plID] ==> kicking_team_ind, teamacr, position, jersey, playdirection\n",
        "    for j in list(ret_vids[plID].keys()):\n",
        "        frID=j\n",
        "        if float(frID)<float(catchframe[plID]):\n",
        "            continue\n",
        "        gcpout=GetClosePlayers('NA',plID,frID,ret_vids,radius=1000)        \n",
        "        bholder=gcpout['idv'][0]\n",
        "        x1=GetFieldStateFeatures(plID,frID,ret_vids)\n",
        "#        x2=GetFieldStateFeatures(plID,frID,ret_vids2) # toggle on for uppercut\n",
        "#        x1_mat.append(x1) # toggle on for uppercut\n",
        "#        x2_mat.append(x2) # toggle on for uppercut\n",
        "## toggle the following OFF if calculating uppercut\n",
        "        for player in players:\n",
        "          if player not in playerskeep:\n",
        "            continue\n",
        "          x2=GetFieldStateFeatures_Adjusted(plID,frID,ret_vids,ret_vids2,player,radius=2)\n",
        "          if player not in COYOTEd:\n",
        "            COYOTEd[player]={}\n",
        "          if plID not in COYOTEd[player]:\n",
        "            COYOTEd[player][plID]={}\n",
        "          on_kicking_team=detailsd[player][plID][0]\n",
        "          if np.min(np.array(uppercut)-np.abs(np.array(x1)-np.array(x2)))<0 or gcpout['distv'][list(gcpout['idv']).index(player)]<3:\n",
        "            COYOTEd[player][plID][frID]=[0,bholder==player]\n",
        "          else:\n",
        "            COYOTEd[player][plID][frID]=[Get_COYOTE(x1,x2,net,on_kicking_team),bholder==player]\n",
        "\n"
      ],
      "metadata": {
        "id": "txNhm3eJsO8r"
      },
      "execution_count": null,
      "outputs": []
    },
    {
      "cell_type": "code",
      "source": [
        "x1=GetFieldStateFeatures(plID,frID,ret_vids)\n",
        "x2=GetFieldStateFeatures_Adjusted(plID,frID,ret_vids,ret_vids2,player,radius=2)\n",
        "print(float(net(torch.tensor(x2).float())))\n",
        "print(float(net(torch.tensor(x1).float())))\n",
        "frID"
      ],
      "metadata": {
        "colab": {
          "base_uri": "https://localhost:8080/",
          "height": 70
        },
        "id": "_VFRH57W6avi",
        "outputId": "612c33d6-a86d-416d-c825-819279670764"
      },
      "execution_count": null,
      "outputs": [
        {
          "output_type": "stream",
          "name": "stdout",
          "text": [
            "16.689273834228516\n",
            "16.58776092529297\n"
          ]
        },
        {
          "output_type": "execute_result",
          "data": {
            "application/vnd.google.colaboratory.intrinsic+json": {
              "type": "string"
            },
            "text/plain": [
              "'59'"
            ]
          },
          "metadata": {},
          "execution_count": 585
        }
      ]
    },
    {
      "cell_type": "code",
      "source": [
        "#dbfile=open(\"COYOTE_v4_\"+YEAR+\".pickle\",'wb') #v3 has 0 coyote values for extreme outlier events #v4 has only off-ball events\n",
        "#pickle.dump({'COYOTEd':COYOTEd,'detailsd':detailsd},dbfile)\n",
        "#dbfile.close()"
      ],
      "metadata": {
        "id": "ryZDrvSgGHHe"
      },
      "execution_count": null,
      "outputs": []
    },
    {
      "cell_type": "code",
      "source": [
        "\n",
        "def COYOTE_per_ret(COYOTEd,player,detailsd, retteamonly=False):\n",
        "  tottot=[]\n",
        "  for ele in COYOTEd[player]:\n",
        "    playtot=0\n",
        "    for ele2 in COYOTEd[player][ele]:\n",
        "      playtot+=COYOTEd[player][ele][ele2][0]\n",
        "    if not detailsd[player][ele][0] and retteamonly:\n",
        "      tottot.append(playtot)\n",
        "  if len(tottot)==0:\n",
        "    return([0,0])\n",
        "  return([sum(tottot)/len(tottot),len(tottot)])\n"
      ],
      "metadata": {
        "id": "hvqBuQRcJwGW"
      },
      "execution_count": null,
      "outputs": []
    },
    {
      "cell_type": "code",
      "source": [
        "playerCOYOTEret = []\n",
        "playerCOYIDs = []\n",
        "for ele in COYOTEd:\n",
        "  obj=COYOTE_per_ret(COYOTEd,ele,detailsd,retteamonly=True)\n",
        "  if obj[1]>9:\n",
        "    playerCOYIDs.append(ele)\n",
        "    playerCOYOTEret.append(obj[0])\n",
        "playerCOYIDs=[playerCOYIDs[x] for x in np.argsort(-np.array(playerCOYOTEret))]\n",
        "playerCOYOTEret=[playerCOYOTEret[x] for x in np.argsort(-np.array(playerCOYOTEret))]\n"
      ],
      "metadata": {
        "id": "a8nBYkgdR4cN"
      },
      "execution_count": null,
      "outputs": []
    },
    {
      "cell_type": "code",
      "source": [
        "playerCOYOTEret[1]"
      ],
      "metadata": {
        "colab": {
          "base_uri": "https://localhost:8080/"
        },
        "id": "CHld7S0FYt03",
        "outputId": "7014dd0b-1a2c-4997-e826-a5c1d53eb278"
      },
      "execution_count": null,
      "outputs": [
        {
          "output_type": "execute_result",
          "data": {
            "text/plain": [
              "1.2834251721700032"
            ]
          },
          "metadata": {},
          "execution_count": 417
        }
      ]
    },
    {
      "cell_type": "code",
      "source": [
        "player=playerCOYIDs[-1]\n",
        "plID='2020111506-2281'\n",
        "frID='63'\n",
        "#player='46303'#'45037'#'45008'# '45037', '46223', '46250', '46303'\n",
        "print(ret_vids[plID][frID][player])\n",
        "print(ret_vids2[plID][frID][player])\n"
      ],
      "metadata": {
        "colab": {
          "base_uri": "https://localhost:8080/"
        },
        "id": "dQljHJGAfgFh",
        "outputId": "35938e5c-1ead-4bf2-bb3f-bacfd989155b"
      },
      "execution_count": null,
      "outputs": [
        {
          "output_type": "stream",
          "name": "stdout",
          "text": [
            "['109.34', '22.23', '7.49', '1.63', '0.75', '33.75', '311.03', '18', '\"WR\"', '\"away\"', '\"right\"']\n",
            "['109.82', '21.4', '7.2', '1.64', '0.75', '193.9', '311.03', '18', '\"WR\"', '\"away\"', '\"right\"']\n"
          ]
        }
      ]
    },
    {
      "cell_type": "code",
      "source": [
        "pos_set=set()\n",
        "for i in range(len(playerCOYIDs)):\n",
        "  pos_set.add(detailsd[playerCOYIDs[i]][list(detailsd[playerCOYIDs[i]].keys())[0]][2])\n",
        "pos_set\n",
        "\n",
        "# ILB, LB, MLB, OLB, DE\n",
        "# CB, DB, FS, WR, FB, RB, TE "
      ],
      "metadata": {
        "id": "B1cq3AdlFRYA"
      },
      "execution_count": null,
      "outputs": []
    },
    {
      "cell_type": "code",
      "source": [
        "player=playerCOYIDs[14]\n",
        "plID='2020111506-2281'\n",
        "frID='63'\n",
        "\n",
        "#player=playerCOYIDs[-7] # example\n",
        "player=playerCOYIDs[2] # example\n",
        "plID=list(detailsd[player].keys())[0]\n",
        "frID=list(COYOTEd[player][plID].keys())[8]\n",
        "#detailsd[player]\n",
        "players_info_d[player]\n",
        "COYOTEd[player]"
      ],
      "metadata": {
        "colab": {
          "base_uri": "https://localhost:8080/"
        },
        "id": "Qr1Awme-pNrm",
        "outputId": "219beff4-8328-4792-abc8-6ea18a98e265"
      },
      "execution_count": null,
      "outputs": [
        {
          "output_type": "execute_result",
          "data": {
            "text/plain": [
              "{'2020092013-1289': [False, 'NE', 'FB', '47', 'right'],\n",
              " '2020092013-2471': [False, 'NE', 'FB', '47', 'left'],\n",
              " '2020092013-2780': [False, 'NE', 'FB', '47', 'left'],\n",
              " '2020092013-535': [False, 'NE', 'FB', '47', 'left'],\n",
              " '2020101812-196': [False, 'NE', 'FB', '47', 'left'],\n",
              " '2020101812-432': [False, 'NE', 'FB', '47', 'left'],\n",
              " '2020101812-961': [False, 'NE', 'FB', '47', 'right'],\n",
              " '2020102510-1166': [False, 'NE', 'FB', '47', 'right'],\n",
              " '2020102510-1721': [False, 'NE', 'FB', '47', 'right'],\n",
              " '2020102510-1929': [False, 'NE', 'FB', '47', 'left'],\n",
              " '2020102510-2786': [False, 'NE', 'FB', '47', 'right'],\n",
              " '2020102510-283': [False, 'NE', 'FB', '47', 'left'],\n",
              " '2020110100-3345': [False, 'NE', 'FB', '47', 'left'],\n",
              " '2020110100-527': [False, 'NE', 'FB', '47', 'right'],\n",
              " '2020110900-1436': [False, 'NE', 'FB', '47', 'right'],\n",
              " '2020110900-2057': [False, 'NE', 'FB', '47', 'left'],\n",
              " '2020112906-237': [False, 'NE', 'FB', '47', 'right'],\n",
              " '2020112906-861': [False, 'NE', 'FB', '47', 'right'],\n",
              " '2020122800-1541': [False, 'NE', 'FB', '47', 'right'],\n",
              " '2020122800-963': [False, 'NE', 'FB', '47', 'right'],\n",
              " '2021010307-40': [False, 'NE', 'FB', '47', 'left']}"
            ]
          },
          "metadata": {},
          "execution_count": 605
        }
      ]
    },
    {
      "cell_type": "code",
      "source": [
        "retteamonly=True\n",
        "tottot=[]\n",
        "playIDex=[]\n",
        "for ele in COYOTEd[player]:\n",
        "  playtot=0\n",
        "  for ele2 in COYOTEd[player][ele]:\n",
        "    playtot+=COYOTEd[player][ele][ele2][0]\n",
        "  if not detailsd[player][ele][0] and retteamonly:\n",
        "    tottot.append(playtot)\n",
        "    playIDex.append(ele)\n",
        "tottot"
      ],
      "metadata": {
        "colab": {
          "base_uri": "https://localhost:8080/"
        },
        "id": "NpJXCfVQJYQt",
        "outputId": "99fbc7e1-ee1d-4ce4-ab3a-22ff4b4859a0"
      },
      "execution_count": null,
      "outputs": [
        {
          "output_type": "execute_result",
          "data": {
            "text/plain": [
              "[-1.9844160974025726,\n",
              " 1.2754324674606323,\n",
              " 1.3578590154647827,\n",
              " 1.7535504847764969,\n",
              " 5.145417630672455,\n",
              " 5.170409321784973,\n",
              " -0.2973223626613617,\n",
              " 1.1459951400756836,\n",
              " -1.2739472389221191,\n",
              " 0.5431816577911377,\n",
              " 3.349716365337372,\n",
              " 1.1483335494995117,\n",
              " 1.2067499160766602,\n",
              " 0.33043766021728516,\n",
              " 0.32659608125686646,\n",
              " 2.731503129005432,\n",
              " 1.540551096200943,\n",
              " 0.36066433787345886,\n",
              " -0.12825989723205566,\n",
              " 1.2769812047481537,\n",
              " 1.6508009731769562]"
            ]
          },
          "metadata": {},
          "execution_count": 560
        }
      ]
    },
    {
      "cell_type": "code",
      "source": [
        "plID=playIDex[1]\n",
        "temp=COYOTEd[player][plID]\n",
        "sum=0\n",
        "outele=[]\n",
        "for ele in temp:\n",
        "  sum+=temp[ele][0]\n",
        "  outele.append(temp[ele][0])\n",
        "temp\n",
        "#outele\n",
        "#sum\n",
        "\n",
        "\n",
        "\n"
      ],
      "metadata": {
        "colab": {
          "base_uri": "https://localhost:8080/"
        },
        "id": "Rc_pZBTNRIVA",
        "outputId": "0b3dfd40-010e-4b05-a1de-127c3b51be94"
      },
      "execution_count": null,
      "outputs": [
        {
          "output_type": "execute_result",
          "data": {
            "text/plain": [
              "{'52': [0.07497406005859375, False],\n",
              " '53': [0.051425933837890625, False],\n",
              " '54': [-0.03381538391113281, False],\n",
              " '55': [-0.004627227783203125, False],\n",
              " '56': [0.0007266998291015625, False],\n",
              " '57': [-0.00046539306640625, False],\n",
              " '58': [0.05213165283203125, False],\n",
              " '59': [0.20093917846679688, False],\n",
              " '60': [0.11177825927734375, False],\n",
              " '61': [0.12310981750488281, False],\n",
              " '62': [0.10656356811523438, False],\n",
              " '63': [0.033431053161621094, False],\n",
              " '64': [0.061058998107910156, False],\n",
              " '65': [0.04075336456298828, False],\n",
              " '66': [-0.07416725158691406, False],\n",
              " '67': [-0.03182411193847656, False],\n",
              " '68': [-0.0036029815673828125, False],\n",
              " '69': [-0.0028734207153320312, False],\n",
              " '70': [0, False],\n",
              " '71': [0, False],\n",
              " '72': [0, False],\n",
              " '73': [0.007781982421875, False],\n",
              " '74': [-0.07791614532470703, False],\n",
              " '75': [0.066192626953125, False],\n",
              " '76': [0.04088306427001953, False],\n",
              " '77': [0.07134485244750977, False],\n",
              " '78': [0.03166484832763672, False],\n",
              " '79': [-0.004673480987548828, False],\n",
              " '80': [0, False],\n",
              " '81': [0.018828392028808594, False],\n",
              " '82': [0, False],\n",
              " '83': [-0.2736067771911621, False],\n",
              " '84': [-0.1603226661682129, False],\n",
              " '85': [0.13904953002929688, False],\n",
              " '86': [0, False],\n",
              " '87': [0, False],\n",
              " '88': [0, False],\n",
              " '89': [-0.1622462272644043, False],\n",
              " '90': [0.15178894996643066, False],\n",
              " '91': [0.2819584608078003, False],\n",
              " '92': [-0.006036281585693359, False],\n",
              " '93': [-0.010108113288879395, False],\n",
              " '94': [0.21452319622039795, False],\n",
              " '95': [0.18449878692626953, False],\n",
              " '96': [0.01874309778213501, False],\n",
              " '97': [0.00972968339920044, False],\n",
              " '98': [0.02783787250518799, False]}"
            ]
          },
          "metadata": {},
          "execution_count": 610
        }
      ]
    },
    {
      "cell_type": "code",
      "source": [
        "plID=list(COYOTEd[player].keys())[2]\n",
        "frID='59'\n",
        "plID='2020122800-1541'\n",
        "ret_vids[plID][frID][player]\n",
        "players_info_d[player]"
      ],
      "metadata": {
        "colab": {
          "base_uri": "https://localhost:8080/"
        },
        "id": "zHjzsx89VFtX",
        "outputId": "1acae719-23d3-4b2a-ab2e-bba6bb9977f0"
      },
      "execution_count": null,
      "outputs": [
        {
          "output_type": "execute_result",
          "data": {
            "text/plain": [
              "['6-3', '255', '1994-12-15', 'Tennessee', 'FB', 'Jakob Johnson']"
            ]
          },
          "metadata": {},
          "execution_count": 597
        }
      ]
    },
    {
      "cell_type": "code",
      "source": [
        "'48482'\n",
        "players_info_d['48482']"
      ],
      "metadata": {
        "colab": {
          "base_uri": "https://localhost:8080/"
        },
        "id": "K98zzSod2_Fm",
        "outputId": "5c7fde87-2b29-49d4-919c-a1bd4a221579"
      },
      "execution_count": null,
      "outputs": [
        {
          "output_type": "execute_result",
          "data": {
            "text/plain": [
              "['6-0', '237', '1998-06-25', 'Texas A&amp;M', 'MLB', 'Tyrel Dodson']"
            ]
          },
          "metadata": {},
          "execution_count": 579
        }
      ]
    },
    {
      "cell_type": "code",
      "source": [
        "#players_info_d[playerCOYIDs[-2]]\n",
        "#detailsd[playerCOYIDs[-1]]\n",
        "#detailsd[playerCOYIDs[0]]\n",
        "#len(COYOTEd[playerCOYIDs[1]])\n",
        "#COYOTEd[playerCOYIDs[-1]]\n",
        "\n",
        "\n",
        "\n",
        "gcpout=GetClosePlayers('NA',plID,frID,ret_vids,radius=1000)        \n",
        "bholder=gcpout['idv'][0]\n",
        "bholder\n",
        "x1=GetFieldStateFeatures(plID,frID,ret_vids)\n",
        "x2=GetFieldStateFeatures_Adjusted(plID,frID,ret_vids,ret_vids2,player,radius=5)\n",
        "net(torch.tensor(x2).float())\n",
        "#PlotFieldPosition(ret_vids[plID][frID])\n",
        "print(x2[4:6])\n",
        "print(x1[4:6])"
      ],
      "metadata": {
        "colab": {
          "base_uri": "https://localhost:8080/"
        },
        "id": "xGot5qGNTkMk",
        "outputId": "ddf9d220-4d0d-4607-ff97-d0c0682b5c1d"
      },
      "execution_count": null,
      "outputs": [
        {
          "output_type": "stream",
          "name": "stdout",
          "text": [
            "[1.7296419058362997, -6.9891586673629735]\n",
            "[-4.161221045316821, 6.227707396146064]\n"
          ]
        }
      ]
    },
    {
      "cell_type": "code",
      "source": [
        "# jersey number, playerID, x,y,"
      ],
      "metadata": {
        "id": "FQh4tAq8L7iQ"
      },
      "execution_count": null,
      "outputs": []
    },
    {
      "cell_type": "code",
      "source": [
        "\n",
        "PlotFieldPosition(ret_vids2[plID][frID])\n",
        "PlotFieldPosition(ret_vids[plID][frID])\n",
        "PlotFieldPosition(ret_vids[plID]['61'])\n",
        "PlotFieldPosition(ret_vids[plID]['63'])\n",
        "PlotFieldPosition(ret_vids[plID]['65'])\n",
        "PlotFieldPosition(ret_vids[plID]['67'])\n",
        "PlotFieldPosition(ret_vids[plID]['69'])\n",
        "PlotFieldPosition(ret_vids[plID]['1'])\n"
      ],
      "metadata": {
        "colab": {
          "base_uri": "https://localhost:8080/",
          "height": 1000
        },
        "id": "XhuHF19fda4h",
        "outputId": "823531f6-b0b1-46c8-81bb-1b3bc9804fe3"
      },
      "execution_count": null,
      "outputs": [
        {
          "output_type": "display_data",
          "data": {
            "image/png": "[encoded data removed]",
            "text/plain": [
              "<Figure size 432x288 with 1 Axes>"
            ]
          },
          "metadata": {
            "needs_background": "light"
          }
        },
        {
          "output_type": "display_data",
          "data": {
            "image/png": "[encoded data removed]",
            "text/plain": [
              "<Figure size 432x288 with 1 Axes>"
            ]
          },
          "metadata": {
            "needs_background": "light"
          }
        },
        {
          "output_type": "display_data",
          "data": {
            "image/png": "[encoded data removed]",
            "text/plain": [
              "<Figure size 432x288 with 1 Axes>"
            ]
          },
          "metadata": {
            "needs_background": "light"
          }
        },
        {
          "output_type": "display_data",
          "data": {
            "image/png": "[encoded data removed]",
            "text/plain": [
              "<Figure size 432x288 with 1 Axes>"
            ]
          },
          "metadata": {
            "needs_background": "light"
          }
        },
        {
          "output_type": "display_data",
          "data": {
            "image/png": "[encoded data removed]",
            "text/plain": [
              "<Figure size 432x288 with 1 Axes>"
            ]
          },
          "metadata": {
            "needs_background": "light"
          }
        },
        {
          "output_type": "display_data",
          "data": {
            "image/png": "[encoded data removed]",
            "text/plain": [
              "<Figure size 432x288 with 1 Axes>"
            ]
          },
          "metadata": {
            "needs_background": "light"
          }
        },
        {
          "output_type": "display_data",
          "data": {
            "image/png": "[encoded data removed]",
            "text/plain": [
              "<Figure size 432x288 with 1 Axes>"
            ]
          },
          "metadata": {
            "needs_background": "light"
          }
        },
        {
          "output_type": "display_data",
          "data": {
            "image/png": "[encoded data removed]",
            "text/plain": [
              "<Figure size 432x288 with 1 Axes>"
            ]
          },
          "metadata": {
            "needs_background": "light"
          }
        }
      ]
    },
    {
      "cell_type": "code",
      "source": [
        "print(x2[4:6])\n",
        "print(x1[4:6])"
      ],
      "metadata": {
        "colab": {
          "base_uri": "https://localhost:8080/"
        },
        "id": "Lye6OWqEdprP",
        "outputId": "00b7d680-e32f-4868-ac49-f53da6ffeb7e"
      },
      "execution_count": null,
      "outputs": [
        {
          "output_type": "stream",
          "name": "stdout",
          "text": [
            "[1.7296419058362997, -6.9891586673629735]\n",
            "[-4.161221045316821, 6.227707396146064]\n"
          ]
        }
      ]
    },
    {
      "cell_type": "markdown",
      "metadata": {
        "id": "IrV_WkXZR6zq"
      },
      "source": [
        "All of the code below runs a nice example highlighting an effective moment for a blocker. Use this in the write-up."
      ]
    },
    {
      "cell_type": "code",
      "execution_count": null,
      "metadata": {
        "id": "n_iKLOA6LTCy"
      },
      "outputs": [],
      "source": [
        "\n",
        "#playerID=playerskeep[0]\n",
        "output=outd[playerID]['COYOTE_perframe']\n",
        "\n",
        "curmax=-10\n",
        "idlook=1\n",
        "for ii in range(len(output)):\n",
        "  ele=output[ii]\n",
        "  if ele[3]>curmax:\n",
        "    curmax=ele[3]\n",
        "    idlook=ii\n",
        "\n",
        "#curmin=10\n",
        "#idlook=1\n",
        "#for ii in range(len(output)):\n",
        "#  ele=output[ii]\n",
        "#  if ele[3]<curmin:\n",
        "#    curmin=ele[3]\n",
        "#    idlook=ii"
      ]
    },
    {
      "cell_type": "code",
      "execution_count": null,
      "metadata": {
        "id": "pcXSH5VvgDcm"
      },
      "outputs": [],
      "source": [
        "\n",
        "\n",
        "for i in range(len(details)):\n",
        "  if details[i][0]+\"-\"+details[i][1]+\"-\"+details[i][2]==output[idlook][0]+\"-\"+output[idlook][1]+\"-\"+output[idlook][2]:\n",
        "    break\n"
      ]
    },
    {
      "cell_type": "code",
      "execution_count": null,
      "metadata": {
        "colab": {
          "base_uri": "https://localhost:8080/"
        },
        "id": "3NpUkUN-Nu2I",
        "outputId": "ebff2b15-9233-42ea-d7ca-7ac98628e81f"
      },
      "outputs": [
        {
          "data": {
            "text/plain": [
              "1.3057565689086914"
            ]
          },
          "execution_count": 187,
          "metadata": {},
          "output_type": "execute_result"
        }
      ],
      "source": [
        "if details[i][4]==\"right\":\n",
        "  xcent=round((maxpix_x-1)*details[i][5][playerID]['x']/maxyard_x)\n",
        "else:\n",
        "  xcent=round((maxpix_x-1)*(1-details[i][5][playerID]['x']/maxyard_x))\n",
        "ycent=round((maxpix_y-1)*(1-details[i][5][playerID]['y']/maxyard_y))\n",
        "sfr1=indat['x'][i]\n",
        "sfr2=indat2['x'][i]\n",
        "dfr1=sfr1.to_dense()\n",
        "dfr2=sfr2.to_dense()\n",
        "box=FindMinClearBox2(sfr1,sfr2,xcent,ycent,yardbuf=2,overlap=True)\n",
        "dfr1edit=ReplaceBox(dfr1,dfr2,box)\n",
        "cCOYOTE=float(net(torch.unsqueeze(dfr1,0)))-float(net(torch.unsqueeze(dfr1edit,0)))\n",
        "if details[i][5][playerID]['teamacr']=='away':\n",
        "  teamacr=game_d[details[i][0]][5]\n",
        "else:\n",
        "  teamacr=game_d[details[i][0]][4]\n",
        "if details[i][3]==teamacr: #on kicking team:\n",
        "  cCOYOTE=-cCOYOTE\n",
        "cCOYOTE"
      ]
    },
    {
      "cell_type": "code",
      "execution_count": null,
      "metadata": {
        "colab": {
          "base_uri": "https://localhost:8080/",
          "height": 214
        },
        "id": "A6faJiTGI9c8",
        "outputId": "a3ccac9a-2701-41c6-e91a-be388fdd54d5"
      },
      "outputs": [
        {
          "data": {
            "text/plain": [
              "<matplotlib.image.AxesImage at 0x7f8ebaf03b90>"
            ]
          },
          "execution_count": 188,
          "metadata": {},
          "output_type": "execute_result"
        },
        {
          "data": {
            "image/png": "[encoded data removed]",
            "text/plain": [
              "<Figure size 432x288 with 1 Axes>"
            ]
          },
          "metadata": {},
          "output_type": "display_data"
        }
      ],
      "source": [
        "maxyard_x=120;maxpix_x=1395\n",
        "maxyard_y=53.3;maxpix_y=603\n",
        "\n",
        "#playerID=\"NA\"\n",
        "sfr1=indat['x'][i]\n",
        "sfr2=indat2['x'][i]\n",
        "curloc=ret_vids[output[idlook][0]+\"-\"+output[idlook][1]][output[idlook][2]][playerID]\n",
        "curx=round((maxpix_x-1)*(1-float(curloc[0])/maxyard_x))\n",
        "cury=round((maxpix_y-1)*(1-float(curloc[1])/maxyard_y))\n",
        "#box=FindMinClearBox2(sfr1,sfr2,curx,cury,2)\n",
        "temp0=AddWhiteBox(sfr1,box[0],box[1],box[2],box[3])\n",
        "temp=np.moveaxis(torch.Tensor.numpy(temp0),0,-1)\n",
        "plt.imshow(temp)\n"
      ]
    },
    {
      "cell_type": "code",
      "execution_count": null,
      "metadata": {
        "colab": {
          "base_uri": "https://localhost:8080/",
          "height": 214
        },
        "id": "hArcm649qPDG",
        "outputId": "38706d93-9e7b-4035-efeb-dd95b63b99a2"
      },
      "outputs": [
        {
          "data": {
            "text/plain": [
              "<matplotlib.image.AxesImage at 0x7f8ebaeefad0>"
            ]
          },
          "execution_count": 189,
          "metadata": {},
          "output_type": "execute_result"
        },
        {
          "data": {
            "image/png": "[encoded data removed]",
            "text/plain": [
              "<Figure size 432x288 with 1 Axes>"
            ]
          },
          "metadata": {},
          "output_type": "display_data"
        }
      ],
      "source": [
        "temp0=AddWhiteBox(dfr1edit,box[0],box[1],box[2],box[3],sparse=False)\n",
        "temp=np.moveaxis(torch.Tensor.numpy(temp0),0,-1)\n",
        "plt.imshow(temp)"
      ]
    },
    {
      "cell_type": "code",
      "execution_count": null,
      "metadata": {
        "colab": {
          "base_uri": "https://localhost:8080/",
          "height": 214
        },
        "id": "YOUWsLKyQ_cj",
        "outputId": "c257fab8-edf5-49cf-ba0b-5dc7a4134644"
      },
      "outputs": [
        {
          "data": {
            "text/plain": [
              "<matplotlib.image.AxesImage at 0x7f8ebae50250>"
            ]
          },
          "execution_count": 190,
          "metadata": {},
          "output_type": "execute_result"
        },
        {
          "data": {
            "image/png": "[encoded data removed]",
            "text/plain": [
              "<Figure size 432x288 with 1 Axes>"
            ]
          },
          "metadata": {},
          "output_type": "display_data"
        }
      ],
      "source": [
        "temp0=AddWhiteBox(sfr2,box[0],box[1],box[2],box[3])\n",
        "temp=np.moveaxis(torch.Tensor.numpy(temp0),0,-1)\n",
        "plt.imshow(temp)"
      ]
    },
    {
      "cell_type": "markdown",
      "metadata": {
        "id": "6QHDhw3oRIHq"
      },
      "source": [
        "As can be seen in the above two plots, when the RB (the green triangle in the white box) has more space between him and the opponent he aims to block, this decreases the expected return by 3 yards. The average player would have this gap, but this RB closed the gap completely in the .1 seconds, much more than the average player would. This does not allow the opponent to turn and head off the kick returner coming in their direciton."
      ]
    },
    {
      "cell_type": "code",
      "source": [
        "class Net2(nn.Module):\n",
        "    def __init__(self):\n",
        "        super().__init__()\n",
        "        self.fc1 = nn.Linear(42, 50)\n",
        "        self.fc2 = nn.Linear(50,25)\n",
        "        self.fc3 = nn.Linear(25,10)\n",
        "        self.fc4 = nn.Linear(10, 5)\n",
        "\n",
        "    def forward(self, x):\n",
        "        x = F.relu(self.fc1(x))\n",
        "        x = F.relu(self.fc2(x))\n",
        "        x = F.relu(self.fc3(x))\n",
        "        x = self.fc4(x)#.squeeze()\n",
        "        return x\n",
        "    \n",
        "    \n",
        "\n",
        "net2 = Net2()\n",
        "modelpath=data_dir+\"/nextposFFNN_take2_19.pt\"\n",
        "net2.load_state_dict(torch.load(modelpath))"
      ],
      "metadata": {
        "colab": {
          "base_uri": "https://localhost:8080/"
        },
        "id": "_l5REHRMg1oX",
        "outputId": "0d5d95b6-aa6c-4c1c-fb56-8e8e83977216"
      },
      "execution_count": null,
      "outputs": [
        {
          "output_type": "execute_result",
          "data": {
            "text/plain": [
              "<All keys matched successfully>"
            ]
          },
          "metadata": {},
          "execution_count": 187
        }
      ]
    },
    {
      "cell_type": "code",
      "source": [
        "playerID=playerCOYIDs[-1]\n",
        "plID='2020111506-2281'\n",
        "frID='63'\n"
      ],
      "metadata": {
        "id": "clpeLr5mia2U"
      },
      "execution_count": null,
      "outputs": []
    },
    {
      "cell_type": "code",
      "source": [
        "frID='62'\n",
        "\n",
        "\n",
        "playerIDs=list(ret_vids[plID][frID].keys())\n",
        "teamkick=play_d[plID][4]\n",
        "homeACR=game_d[plID.split(\"-\")[0]][4]\n",
        "awayACR=game_d[plID.split(\"-\")[0]][5]\n",
        "if teamkick==homeACR:\n",
        "  homekick=True\n",
        "else:\n",
        "  homekick=False\n",
        "frIDs=list(ret_vids[plID].keys())\n",
        "j=int(frID)-1\n",
        "for k in range(len(playerIDs)):\n",
        "  playerID=playerIDs[k]\n",
        "  if playerID==\"NA\":\n",
        "    continue\n",
        "  # get outcome vector: deltax,deltay, a, xspd, yspd\n",
        "  cx=float(ret_vids[plID][frID][playerID][0])\n",
        "  cy=float(ret_vids[plID][frID][playerID][1])\n",
        "  cs=float(ret_vids[plID][frID][playerID][2])\n",
        "  ca=float(ret_vids[plID][frID][playerID][3])\n",
        "  cdis=float(ret_vids[plID][frID][playerID][4])\n",
        "  co=float(ret_vids[plID][frID][playerID][5])\n",
        "  nx=float(ret_vids[plID][frIDs[j+1]][playerID][0])\n",
        "  ny=float(ret_vids[plID][frIDs[j+1]][playerID][1])\n",
        "  ns=float(ret_vids[plID][frIDs[j+1]][playerID][2])\n",
        "  na=float(ret_vids[plID][frIDs[j+1]][playerID][3])\n",
        "  ndis=float(ret_vids[plID][frIDs[j+1]][playerID][4])\n",
        "  no=float(ret_vids[plID][frIDs[j+1]][playerID][5])\n",
        "  temp=os2xyspeed(no,ns)\n",
        "  nxspd=temp[0]\n",
        "  nyspd=temp[1]\n",
        "  temp=os2xyspeed(co,cs)\n",
        "  cxspd=temp[0]\n",
        "  cyspd=temp[1]\n",
        "  cury=[nx-cx,ny-cy,na,nxspd,nyspd]\n",
        "  ### get 3 closest players\n",
        "  gcpout=GetClosePlayers(playerID,plID,frID,ret_vids,radius=250)\n",
        "  # get predictor vector: a, xspd, yspd, dis----plus--- top 3 closest reldis, relx, rely, a, xspd, yspd\n",
        "  curx=[ca,cxspd,cyspd,cdis]\n",
        "  for l in range(5):\n",
        "    ID2=gcpout['idv'][l]\n",
        "    cx2=float(ret_vids[plID][frID][ID2][0])\n",
        "    cy2=float(ret_vids[plID][frID][ID2][1])\n",
        "    cs2=float(ret_vids[plID][frID][ID2][2])\n",
        "    ca2=float(ret_vids[plID][frID][ID2][3])\n",
        "    cdis2=float(ret_vids[plID][frID][ID2][4])\n",
        "    co2=float(ret_vids[plID][frID][ID2][5])\n",
        "    temp=os2xyspeed(co2,cs2)\n",
        "    cxspd2=temp[0]\n",
        "    cyspd2=temp[1]\n",
        "    if ret_vids[plID][frID][ID2][9]==ret_vids[plID][frID][playerID][9]:\n",
        "      sameteam=1\n",
        "    else:\n",
        "      sameteam=0\n",
        "    curx+=[np.sqrt((cx2-cx)**2+(cy2-cy)**2),cx2-cx,cy2-cy,ca2,cxspd2,cyspd2,sameteam]\n",
        "  # also add the relx and rely of the ball to the player\n",
        "  cx2=float(ret_vids[plID][frID]['NA'][0])\n",
        "  cy2=float(ret_vids[plID][frID]['NA'][1])\n",
        "  cretind=0\n",
        "  if (homekick and ret_vids[plID][frID][playerID][9].strip(\"\\\"\")==\"home\") or ((not homekick) and ret_vids[plID][frID][playerID][9].strip(\"\\\"\")==\"away\"):\n",
        "    cretind=1\n",
        "  curx+=[cx2,cy2,cretind]\n",
        "\n",
        "#x,y,s,a,dis,o,dir,jersey,pos,team,playdirectino"
      ],
      "metadata": {
        "id": "AZkvFz_YiVHF"
      },
      "execution_count": null,
      "outputs": []
    },
    {
      "cell_type": "code",
      "source": [
        "ret_vids[plID][frID][playerID]"
      ],
      "metadata": {
        "colab": {
          "base_uri": "https://localhost:8080/"
        },
        "id": "BBeVUsWUj62-",
        "outputId": "2c3c8238-8f9a-4fd0-e9e9-b4eb8a354d24"
      },
      "execution_count": null,
      "outputs": [
        {
          "output_type": "execute_result",
          "data": {
            "text/plain": [
              "['109.34',\n",
              " '22.23',\n",
              " '7.49',\n",
              " '1.63',\n",
              " '0.75',\n",
              " '33.75',\n",
              " '311.03',\n",
              " '18',\n",
              " '\"WR\"',\n",
              " '\"away\"',\n",
              " '\"right\"']"
            ]
          },
          "metadata": {},
          "execution_count": 214
        }
      ]
    },
    {
      "cell_type": "code",
      "source": [
        "o=ret_vids[plID][frID][playerID][5]\n",
        "s=ret_vids[plID][frID][playerID][2]\n",
        "print(net2(torch.tensor(curx).float()))\n",
        "temp=os2xyspeed(float(o),float(s))\n",
        "nxspd=temp[0]\n",
        "nyspd=temp[1]\n",
        "print(nxspd,nyspd)"
      ],
      "metadata": {
        "colab": {
          "base_uri": "https://localhost:8080/"
        },
        "id": "Y2pkW-Ukjkiu",
        "outputId": "049bd679-923e-4e93-ac88-1ff5efbaedaf"
      },
      "execution_count": null,
      "outputs": [
        {
          "output_type": "stream",
          "name": "stdout",
          "text": [
            "tensor([ 0.2968,  0.3375,  1.1248, -3.5689,  4.6178], grad_fn=<AddBackward0>)\n",
            "4.161221045316821 6.227707396146064\n"
          ]
        }
      ]
    }
  ],
  "metadata": {
    "accelerator": "GPU",
    "colab": {
      "collapsed_sections": [],
      "machine_shape": "hm",
      "name": "calcCOYOTEv2.ipynb",
      "provenance": [],
      "authorship_tag": "ABX9TyOLm5XQiaJHgg08WKm+Hng7",
      "include_colab_link": true
    },
    "kernelspec": {
      "display_name": "Python 3",
      "name": "python3"
    },
    "language_info": {
      "name": "python"
    }
  },
  "nbformat": 4,
  "nbformat_minor": 0
}